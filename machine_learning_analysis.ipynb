{
 "cells": [
  {
   "cell_type": "code",
   "execution_count": 1,
   "id": "f4ffe225",
   "metadata": {},
   "outputs": [],
   "source": [
    "import pandas as pd"
   ]
  },
  {
   "cell_type": "code",
   "execution_count": 2,
   "id": "74a10646",
   "metadata": {},
   "outputs": [],
   "source": [
    "# Read in all the data\n",
    "workout = pd.read_csv('./analysis_data/workout.csv',index_col = 0)\n",
    "sad = pd.read_csv('./analysis_data/sad.csv',index_col = 0)\n",
    "happy = pd.read_csv('./analysis_data/happy.csv',index_col = 0)"
   ]
  },
  {
   "cell_type": "code",
   "execution_count": 3,
   "id": "b178ed21",
   "metadata": {},
   "outputs": [
    {
     "data": {
      "text/plain": [
       "name                0\n",
       "album               0\n",
       "artist              0\n",
       "release_date        0\n",
       "length              0\n",
       "popularity          0\n",
       "danceability        0\n",
       "acousticness        0\n",
       "danceability.1      0\n",
       "energy              0\n",
       "instrumentalness    0\n",
       "liveness            0\n",
       "loudness            0\n",
       "speechiness         0\n",
       "tempo               0\n",
       "time_signature      0\n",
       "mood                0\n",
       "dtype: int64"
      ]
     },
     "execution_count": 3,
     "metadata": {},
     "output_type": "execute_result"
    }
   ],
   "source": [
    "# Double check that there are no null values in any of the mood dfs\n",
    "sad.isnull().sum()"
   ]
  },
  {
   "cell_type": "code",
   "execution_count": 4,
   "id": "462e981f",
   "metadata": {},
   "outputs": [
    {
     "name": "stdout",
     "output_type": "stream",
     "text": [
      "1293\n",
      "130\n",
      "75\n"
     ]
    }
   ],
   "source": [
    "# How many duplicates are in each mood df\n",
    "print(sad.duplicated().sum())\n",
    "print(happy.duplicated().sum())\n",
    "print(workout.duplicated().sum())"
   ]
  },
  {
   "cell_type": "code",
   "execution_count": 5,
   "id": "405a2256",
   "metadata": {},
   "outputs": [],
   "source": [
    "# Drop the duplicates from individual dfs\n",
    "sad = sad.drop_duplicates()\n",
    "happy = happy.drop_duplicates()\n",
    "workout = workout.drop_duplicates()"
   ]
  },
  {
   "cell_type": "code",
   "execution_count": 6,
   "id": "3c57c9cf",
   "metadata": {},
   "outputs": [
    {
     "name": "stdout",
     "output_type": "stream",
     "text": [
      "0\n",
      "0\n",
      "0\n"
     ]
    }
   ],
   "source": [
    "# Confirm no duplicates\n",
    "print(sad.duplicated().sum())\n",
    "print(happy.duplicated().sum())\n",
    "print(workout.duplicated().sum())"
   ]
  },
  {
   "cell_type": "code",
   "execution_count": 7,
   "id": "8201c88e",
   "metadata": {},
   "outputs": [
    {
     "name": "stdout",
     "output_type": "stream",
     "text": [
      "3833\n"
     ]
    }
   ],
   "source": [
    "# Merge all dataframes into one central df\n",
    "music_total = pd.concat([happy,sad,workout])\n",
    "count = music_total['length'].count()\n",
    "print(count)"
   ]
  },
  {
   "cell_type": "code",
   "execution_count": 8,
   "id": "a1de4f26",
   "metadata": {
    "scrolled": true
   },
   "outputs": [
    {
     "name": "stdout",
     "output_type": "stream",
     "text": [
      "244\n"
     ]
    }
   ],
   "source": [
    "# How many songs were assigned to multiple moods?\n",
    "print(music_total.duplicated(subset=['name','album','artist']).sum())"
   ]
  },
  {
   "cell_type": "code",
   "execution_count": 9,
   "id": "4c132a0b",
   "metadata": {},
   "outputs": [],
   "source": [
    "clean_music_total = music_total.drop_duplicates(\n",
    "    subset=['name','album','artist'], keep='first')"
   ]
  },
  {
   "cell_type": "code",
   "execution_count": 10,
   "id": "9100cca9",
   "metadata": {},
   "outputs": [
    {
     "name": "stdout",
     "output_type": "stream",
     "text": [
      "244\n",
      "Filtered dataframe is:  3589  songs long.\n"
     ]
    }
   ],
   "source": [
    "new_count = clean_music_total['length'].count()\n",
    "print(count - new_count)\n",
    "print('Filtered dataframe is: ', new_count, ' songs long.')"
   ]
  },
  {
   "cell_type": "code",
   "execution_count": 11,
   "id": "2ba13fa2",
   "metadata": {},
   "outputs": [
    {
     "data": {
      "text/plain": [
       "Forever            6\n",
       "All I Want         6\n",
       "Hold On            5\n",
       "Chasing Cars       5\n",
       "Broken             5\n",
       "                  ..\n",
       "Your Dog           1\n",
       "Mystery of Love    1\n",
       "Columbia River     1\n",
       "Eugene             1\n",
       "goosebumps         1\n",
       "Name: name, Length: 3277, dtype: int64"
      ]
     },
     "execution_count": 11,
     "metadata": {},
     "output_type": "execute_result"
    }
   ],
   "source": [
    "# Checking the data for top sad songs\n",
    "clean_music_total['name'].value_counts()"
   ]
  },
  {
   "cell_type": "code",
   "execution_count": 12,
   "id": "f92a5054",
   "metadata": {},
   "outputs": [
    {
     "data": {
      "text/html": [
       "<div>\n",
       "<style scoped>\n",
       "    .dataframe tbody tr th:only-of-type {\n",
       "        vertical-align: middle;\n",
       "    }\n",
       "\n",
       "    .dataframe tbody tr th {\n",
       "        vertical-align: top;\n",
       "    }\n",
       "\n",
       "    .dataframe thead th {\n",
       "        text-align: right;\n",
       "    }\n",
       "</style>\n",
       "<table border=\"1\" class=\"dataframe\">\n",
       "  <thead>\n",
       "    <tr style=\"text-align: right;\">\n",
       "      <th></th>\n",
       "      <th>name</th>\n",
       "      <th>album</th>\n",
       "      <th>artist</th>\n",
       "      <th>release_date</th>\n",
       "      <th>length</th>\n",
       "      <th>popularity</th>\n",
       "      <th>danceability</th>\n",
       "      <th>acousticness</th>\n",
       "      <th>danceability.1</th>\n",
       "      <th>energy</th>\n",
       "      <th>instrumentalness</th>\n",
       "      <th>liveness</th>\n",
       "      <th>loudness</th>\n",
       "      <th>speechiness</th>\n",
       "      <th>tempo</th>\n",
       "      <th>time_signature</th>\n",
       "      <th>mood</th>\n",
       "    </tr>\n",
       "  </thead>\n",
       "  <tbody>\n",
       "    <tr>\n",
       "      <th>279</th>\n",
       "      <td>All I Want</td>\n",
       "      <td>In A Perfect World (Expanded Edition)</td>\n",
       "      <td>Kodaline</td>\n",
       "      <td>2013-06-17</td>\n",
       "      <td>305746</td>\n",
       "      <td>82</td>\n",
       "      <td>0.188</td>\n",
       "      <td>0.1740</td>\n",
       "      <td>0.188</td>\n",
       "      <td>0.411</td>\n",
       "      <td>0.1530</td>\n",
       "      <td>0.0843</td>\n",
       "      <td>-9.733</td>\n",
       "      <td>0.0484</td>\n",
       "      <td>187.376</td>\n",
       "      <td>3</td>\n",
       "      <td>1</td>\n",
       "    </tr>\n",
       "    <tr>\n",
       "      <th>631</th>\n",
       "      <td>All I Want</td>\n",
       "      <td>High School Musical: The Musical: The Series (...</td>\n",
       "      <td>Various Artists</td>\n",
       "      <td>2020-01-10</td>\n",
       "      <td>177322</td>\n",
       "      <td>73</td>\n",
       "      <td>0.376</td>\n",
       "      <td>0.0902</td>\n",
       "      <td>0.376</td>\n",
       "      <td>0.430</td>\n",
       "      <td>0.0000</td>\n",
       "      <td>0.0912</td>\n",
       "      <td>-6.585</td>\n",
       "      <td>0.0328</td>\n",
       "      <td>77.599</td>\n",
       "      <td>3</td>\n",
       "      <td>1</td>\n",
       "    </tr>\n",
       "    <tr>\n",
       "      <th>818</th>\n",
       "      <td>All I Want</td>\n",
       "      <td>In A Perfect World</td>\n",
       "      <td>Kodaline</td>\n",
       "      <td>2013-10-08</td>\n",
       "      <td>305746</td>\n",
       "      <td>0</td>\n",
       "      <td>0.209</td>\n",
       "      <td>0.1720</td>\n",
       "      <td>0.209</td>\n",
       "      <td>0.412</td>\n",
       "      <td>0.1500</td>\n",
       "      <td>0.0843</td>\n",
       "      <td>-9.733</td>\n",
       "      <td>0.0443</td>\n",
       "      <td>86.260</td>\n",
       "      <td>3</td>\n",
       "      <td>1</td>\n",
       "    </tr>\n",
       "    <tr>\n",
       "      <th>1955</th>\n",
       "      <td>All I Want</td>\n",
       "      <td>The Fault In Our Stars: Music From The Motion ...</td>\n",
       "      <td>Various Artists</td>\n",
       "      <td>2014-05-19</td>\n",
       "      <td>305946</td>\n",
       "      <td>0</td>\n",
       "      <td>0.299</td>\n",
       "      <td>0.1460</td>\n",
       "      <td>0.299</td>\n",
       "      <td>0.432</td>\n",
       "      <td>0.1700</td>\n",
       "      <td>0.0782</td>\n",
       "      <td>-9.099</td>\n",
       "      <td>0.0384</td>\n",
       "      <td>125.125</td>\n",
       "      <td>4</td>\n",
       "      <td>1</td>\n",
       "    </tr>\n",
       "    <tr>\n",
       "      <th>2108</th>\n",
       "      <td>All I Want</td>\n",
       "      <td>The Kodaline EP</td>\n",
       "      <td>Kodaline</td>\n",
       "      <td>2012-09-07</td>\n",
       "      <td>306600</td>\n",
       "      <td>0</td>\n",
       "      <td>0.189</td>\n",
       "      <td>0.1140</td>\n",
       "      <td>0.189</td>\n",
       "      <td>0.426</td>\n",
       "      <td>0.0885</td>\n",
       "      <td>0.0580</td>\n",
       "      <td>-9.084</td>\n",
       "      <td>0.0450</td>\n",
       "      <td>187.281</td>\n",
       "      <td>3</td>\n",
       "      <td>1</td>\n",
       "    </tr>\n",
       "    <tr>\n",
       "      <th>3448</th>\n",
       "      <td>All I Want</td>\n",
       "      <td>In A Perfect World (Deluxe)</td>\n",
       "      <td>Kodaline</td>\n",
       "      <td>2013-06-14</td>\n",
       "      <td>305746</td>\n",
       "      <td>1</td>\n",
       "      <td>0.188</td>\n",
       "      <td>0.1740</td>\n",
       "      <td>0.188</td>\n",
       "      <td>0.411</td>\n",
       "      <td>0.1530</td>\n",
       "      <td>0.0843</td>\n",
       "      <td>-9.733</td>\n",
       "      <td>0.0484</td>\n",
       "      <td>187.376</td>\n",
       "      <td>3</td>\n",
       "      <td>1</td>\n",
       "    </tr>\n",
       "  </tbody>\n",
       "</table>\n",
       "</div>"
      ],
      "text/plain": [
       "            name                                              album  \\\n",
       "279   All I Want              In A Perfect World (Expanded Edition)   \n",
       "631   All I Want  High School Musical: The Musical: The Series (...   \n",
       "818   All I Want                                 In A Perfect World   \n",
       "1955  All I Want  The Fault In Our Stars: Music From The Motion ...   \n",
       "2108  All I Want                                    The Kodaline EP   \n",
       "3448  All I Want                        In A Perfect World (Deluxe)   \n",
       "\n",
       "               artist release_date  length  popularity  danceability  \\\n",
       "279          Kodaline   2013-06-17  305746          82         0.188   \n",
       "631   Various Artists   2020-01-10  177322          73         0.376   \n",
       "818          Kodaline   2013-10-08  305746           0         0.209   \n",
       "1955  Various Artists   2014-05-19  305946           0         0.299   \n",
       "2108         Kodaline   2012-09-07  306600           0         0.189   \n",
       "3448         Kodaline   2013-06-14  305746           1         0.188   \n",
       "\n",
       "      acousticness  danceability.1  energy  instrumentalness  liveness  \\\n",
       "279         0.1740           0.188   0.411            0.1530    0.0843   \n",
       "631         0.0902           0.376   0.430            0.0000    0.0912   \n",
       "818         0.1720           0.209   0.412            0.1500    0.0843   \n",
       "1955        0.1460           0.299   0.432            0.1700    0.0782   \n",
       "2108        0.1140           0.189   0.426            0.0885    0.0580   \n",
       "3448        0.1740           0.188   0.411            0.1530    0.0843   \n",
       "\n",
       "      loudness  speechiness    tempo  time_signature  mood  \n",
       "279     -9.733       0.0484  187.376               3     1  \n",
       "631     -6.585       0.0328   77.599               3     1  \n",
       "818     -9.733       0.0443   86.260               3     1  \n",
       "1955    -9.099       0.0384  125.125               4     1  \n",
       "2108    -9.084       0.0450  187.281               3     1  \n",
       "3448    -9.733       0.0484  187.376               3     1  "
      ]
     },
     "execution_count": 12,
     "metadata": {},
     "output_type": "execute_result"
    }
   ],
   "source": [
    "# Checking to see what the \"duplicates\" are\n",
    "clean_music_total[clean_music_total['name']=='All I Want']"
   ]
  },
  {
   "cell_type": "code",
   "execution_count": 31,
   "id": "349c33f9",
   "metadata": {},
   "outputs": [
    {
     "data": {
      "text/html": [
       "<div>\n",
       "<style scoped>\n",
       "    .dataframe tbody tr th:only-of-type {\n",
       "        vertical-align: middle;\n",
       "    }\n",
       "\n",
       "    .dataframe tbody tr th {\n",
       "        vertical-align: top;\n",
       "    }\n",
       "\n",
       "    .dataframe thead th {\n",
       "        text-align: right;\n",
       "    }\n",
       "</style>\n",
       "<table border=\"1\" class=\"dataframe\">\n",
       "  <thead>\n",
       "    <tr style=\"text-align: right;\">\n",
       "      <th></th>\n",
       "      <th>length</th>\n",
       "      <th>popularity</th>\n",
       "      <th>danceability</th>\n",
       "      <th>acousticness</th>\n",
       "      <th>energy</th>\n",
       "      <th>instrumentalness</th>\n",
       "      <th>liveness</th>\n",
       "      <th>loudness</th>\n",
       "      <th>speechiness</th>\n",
       "      <th>tempo</th>\n",
       "      <th>time_signature</th>\n",
       "      <th>mood</th>\n",
       "    </tr>\n",
       "  </thead>\n",
       "  <tbody>\n",
       "    <tr>\n",
       "      <th>0</th>\n",
       "      <td>191706</td>\n",
       "      <td>70</td>\n",
       "      <td>0.561</td>\n",
       "      <td>0.000715</td>\n",
       "      <td>0.741</td>\n",
       "      <td>0.000014</td>\n",
       "      <td>0.0822</td>\n",
       "      <td>-4.239</td>\n",
       "      <td>0.0419</td>\n",
       "      <td>139.001</td>\n",
       "      <td>4</td>\n",
       "      <td>2</td>\n",
       "    </tr>\n",
       "    <tr>\n",
       "      <th>1</th>\n",
       "      <td>239600</td>\n",
       "      <td>84</td>\n",
       "      <td>0.733</td>\n",
       "      <td>0.145000</td>\n",
       "      <td>0.710</td>\n",
       "      <td>0.115000</td>\n",
       "      <td>0.0956</td>\n",
       "      <td>-5.849</td>\n",
       "      <td>0.0292</td>\n",
       "      <td>127.975</td>\n",
       "      <td>4</td>\n",
       "      <td>2</td>\n",
       "    </tr>\n",
       "    <tr>\n",
       "      <th>2</th>\n",
       "      <td>218013</td>\n",
       "      <td>80</td>\n",
       "      <td>0.560</td>\n",
       "      <td>0.008470</td>\n",
       "      <td>0.936</td>\n",
       "      <td>0.000000</td>\n",
       "      <td>0.1610</td>\n",
       "      <td>-5.835</td>\n",
       "      <td>0.0439</td>\n",
       "      <td>112.960</td>\n",
       "      <td>4</td>\n",
       "      <td>2</td>\n",
       "    </tr>\n",
       "    <tr>\n",
       "      <th>3</th>\n",
       "      <td>193106</td>\n",
       "      <td>67</td>\n",
       "      <td>0.591</td>\n",
       "      <td>0.060500</td>\n",
       "      <td>0.831</td>\n",
       "      <td>0.000047</td>\n",
       "      <td>0.1900</td>\n",
       "      <td>-5.647</td>\n",
       "      <td>0.0415</td>\n",
       "      <td>144.084</td>\n",
       "      <td>4</td>\n",
       "      <td>2</td>\n",
       "    </tr>\n",
       "    <tr>\n",
       "      <th>4</th>\n",
       "      <td>182693</td>\n",
       "      <td>72</td>\n",
       "      <td>0.695</td>\n",
       "      <td>0.006470</td>\n",
       "      <td>0.818</td>\n",
       "      <td>0.000005</td>\n",
       "      <td>0.0219</td>\n",
       "      <td>-5.379</td>\n",
       "      <td>0.0334</td>\n",
       "      <td>119.965</td>\n",
       "      <td>4</td>\n",
       "      <td>2</td>\n",
       "    </tr>\n",
       "    <tr>\n",
       "      <th>...</th>\n",
       "      <td>...</td>\n",
       "      <td>...</td>\n",
       "      <td>...</td>\n",
       "      <td>...</td>\n",
       "      <td>...</td>\n",
       "      <td>...</td>\n",
       "      <td>...</td>\n",
       "      <td>...</td>\n",
       "      <td>...</td>\n",
       "      <td>...</td>\n",
       "      <td>...</td>\n",
       "      <td>...</td>\n",
       "    </tr>\n",
       "    <tr>\n",
       "      <th>650</th>\n",
       "      <td>242965</td>\n",
       "      <td>91</td>\n",
       "      <td>0.849</td>\n",
       "      <td>0.063500</td>\n",
       "      <td>0.424</td>\n",
       "      <td>0.000000</td>\n",
       "      <td>0.0834</td>\n",
       "      <td>-9.579</td>\n",
       "      <td>0.3240</td>\n",
       "      <td>145.887</td>\n",
       "      <td>4</td>\n",
       "      <td>0</td>\n",
       "    </tr>\n",
       "    <tr>\n",
       "      <th>651</th>\n",
       "      <td>175720</td>\n",
       "      <td>84</td>\n",
       "      <td>0.598</td>\n",
       "      <td>0.054600</td>\n",
       "      <td>0.427</td>\n",
       "      <td>0.000006</td>\n",
       "      <td>0.2100</td>\n",
       "      <td>-8.764</td>\n",
       "      <td>0.0317</td>\n",
       "      <td>76.469</td>\n",
       "      <td>4</td>\n",
       "      <td>0</td>\n",
       "    </tr>\n",
       "    <tr>\n",
       "      <th>653</th>\n",
       "      <td>132780</td>\n",
       "      <td>1</td>\n",
       "      <td>0.778</td>\n",
       "      <td>0.175000</td>\n",
       "      <td>0.695</td>\n",
       "      <td>0.000000</td>\n",
       "      <td>0.1500</td>\n",
       "      <td>-6.865</td>\n",
       "      <td>0.0913</td>\n",
       "      <td>149.996</td>\n",
       "      <td>4</td>\n",
       "      <td>0</td>\n",
       "    </tr>\n",
       "    <tr>\n",
       "      <th>660</th>\n",
       "      <td>221979</td>\n",
       "      <td>89</td>\n",
       "      <td>0.767</td>\n",
       "      <td>0.181000</td>\n",
       "      <td>0.438</td>\n",
       "      <td>0.000000</td>\n",
       "      <td>0.1420</td>\n",
       "      <td>-8.726</td>\n",
       "      <td>0.2900</td>\n",
       "      <td>86.975</td>\n",
       "      <td>4</td>\n",
       "      <td>0</td>\n",
       "    </tr>\n",
       "    <tr>\n",
       "      <th>661</th>\n",
       "      <td>243836</td>\n",
       "      <td>86</td>\n",
       "      <td>0.841</td>\n",
       "      <td>0.084700</td>\n",
       "      <td>0.728</td>\n",
       "      <td>0.000000</td>\n",
       "      <td>0.1490</td>\n",
       "      <td>-3.370</td>\n",
       "      <td>0.0484</td>\n",
       "      <td>130.049</td>\n",
       "      <td>4</td>\n",
       "      <td>0</td>\n",
       "    </tr>\n",
       "  </tbody>\n",
       "</table>\n",
       "<p>3589 rows × 12 columns</p>\n",
       "</div>"
      ],
      "text/plain": [
       "     length  popularity  danceability  acousticness  energy  instrumentalness  \\\n",
       "0    191706          70         0.561      0.000715   0.741          0.000014   \n",
       "1    239600          84         0.733      0.145000   0.710          0.115000   \n",
       "2    218013          80         0.560      0.008470   0.936          0.000000   \n",
       "3    193106          67         0.591      0.060500   0.831          0.000047   \n",
       "4    182693          72         0.695      0.006470   0.818          0.000005   \n",
       "..      ...         ...           ...           ...     ...               ...   \n",
       "650  242965          91         0.849      0.063500   0.424          0.000000   \n",
       "651  175720          84         0.598      0.054600   0.427          0.000006   \n",
       "653  132780           1         0.778      0.175000   0.695          0.000000   \n",
       "660  221979          89         0.767      0.181000   0.438          0.000000   \n",
       "661  243836          86         0.841      0.084700   0.728          0.000000   \n",
       "\n",
       "     liveness  loudness  speechiness    tempo  time_signature  mood  \n",
       "0      0.0822    -4.239       0.0419  139.001               4     2  \n",
       "1      0.0956    -5.849       0.0292  127.975               4     2  \n",
       "2      0.1610    -5.835       0.0439  112.960               4     2  \n",
       "3      0.1900    -5.647       0.0415  144.084               4     2  \n",
       "4      0.0219    -5.379       0.0334  119.965               4     2  \n",
       "..        ...       ...          ...      ...             ...   ...  \n",
       "650    0.0834    -9.579       0.3240  145.887               4     0  \n",
       "651    0.2100    -8.764       0.0317   76.469               4     0  \n",
       "653    0.1500    -6.865       0.0913  149.996               4     0  \n",
       "660    0.1420    -8.726       0.2900   86.975               4     0  \n",
       "661    0.1490    -3.370       0.0484  130.049               4     0  \n",
       "\n",
       "[3589 rows x 12 columns]"
      ]
     },
     "execution_count": 31,
     "metadata": {},
     "output_type": "execute_result"
    }
   ],
   "source": [
    "# Drop the name and album columns\n",
    "cmt = clean_music_total.drop(columns=['name','album',\n",
    "                                      'release_date','danceability.1','artist'])\n",
    "cmt"
   ]
  },
  {
   "cell_type": "code",
   "execution_count": 15,
   "id": "bf353048",
   "metadata": {},
   "outputs": [
    {
     "data": {
      "text/html": [
       "<div>\n",
       "<style scoped>\n",
       "    .dataframe tbody tr th:only-of-type {\n",
       "        vertical-align: middle;\n",
       "    }\n",
       "\n",
       "    .dataframe tbody tr th {\n",
       "        vertical-align: top;\n",
       "    }\n",
       "\n",
       "    .dataframe thead th {\n",
       "        text-align: right;\n",
       "    }\n",
       "</style>\n",
       "<table border=\"1\" class=\"dataframe\">\n",
       "  <thead>\n",
       "    <tr style=\"text-align: right;\">\n",
       "      <th></th>\n",
       "      <th>length</th>\n",
       "      <th>popularity</th>\n",
       "      <th>danceability</th>\n",
       "      <th>acousticness</th>\n",
       "      <th>energy</th>\n",
       "      <th>instrumentalness</th>\n",
       "      <th>liveness</th>\n",
       "      <th>loudness</th>\n",
       "      <th>speechiness</th>\n",
       "      <th>tempo</th>\n",
       "      <th>...</th>\n",
       "      <th>artist_the bootleg boy</th>\n",
       "      <th>artist_toastool</th>\n",
       "      <th>artist_weeklyn</th>\n",
       "      <th>artist_whiterosemoxie</th>\n",
       "      <th>artist_will.i.am</th>\n",
       "      <th>artist_yaeow</th>\n",
       "      <th>artist_yes I M</th>\n",
       "      <th>artist_yung van</th>\n",
       "      <th>artist_zukrai</th>\n",
       "      <th>artist_Öwnboss</th>\n",
       "    </tr>\n",
       "  </thead>\n",
       "  <tbody>\n",
       "    <tr>\n",
       "      <th>0</th>\n",
       "      <td>191706</td>\n",
       "      <td>70</td>\n",
       "      <td>0.561</td>\n",
       "      <td>0.000715</td>\n",
       "      <td>0.741</td>\n",
       "      <td>0.000014</td>\n",
       "      <td>0.0822</td>\n",
       "      <td>-4.239</td>\n",
       "      <td>0.0419</td>\n",
       "      <td>139.001</td>\n",
       "      <td>...</td>\n",
       "      <td>0</td>\n",
       "      <td>0</td>\n",
       "      <td>0</td>\n",
       "      <td>0</td>\n",
       "      <td>0</td>\n",
       "      <td>0</td>\n",
       "      <td>0</td>\n",
       "      <td>0</td>\n",
       "      <td>0</td>\n",
       "      <td>0</td>\n",
       "    </tr>\n",
       "    <tr>\n",
       "      <th>1</th>\n",
       "      <td>239600</td>\n",
       "      <td>84</td>\n",
       "      <td>0.733</td>\n",
       "      <td>0.145000</td>\n",
       "      <td>0.710</td>\n",
       "      <td>0.115000</td>\n",
       "      <td>0.0956</td>\n",
       "      <td>-5.849</td>\n",
       "      <td>0.0292</td>\n",
       "      <td>127.975</td>\n",
       "      <td>...</td>\n",
       "      <td>0</td>\n",
       "      <td>0</td>\n",
       "      <td>0</td>\n",
       "      <td>0</td>\n",
       "      <td>0</td>\n",
       "      <td>0</td>\n",
       "      <td>0</td>\n",
       "      <td>0</td>\n",
       "      <td>0</td>\n",
       "      <td>0</td>\n",
       "    </tr>\n",
       "    <tr>\n",
       "      <th>2</th>\n",
       "      <td>218013</td>\n",
       "      <td>80</td>\n",
       "      <td>0.560</td>\n",
       "      <td>0.008470</td>\n",
       "      <td>0.936</td>\n",
       "      <td>0.000000</td>\n",
       "      <td>0.1610</td>\n",
       "      <td>-5.835</td>\n",
       "      <td>0.0439</td>\n",
       "      <td>112.960</td>\n",
       "      <td>...</td>\n",
       "      <td>0</td>\n",
       "      <td>0</td>\n",
       "      <td>0</td>\n",
       "      <td>0</td>\n",
       "      <td>0</td>\n",
       "      <td>0</td>\n",
       "      <td>0</td>\n",
       "      <td>0</td>\n",
       "      <td>0</td>\n",
       "      <td>0</td>\n",
       "    </tr>\n",
       "    <tr>\n",
       "      <th>3</th>\n",
       "      <td>193106</td>\n",
       "      <td>67</td>\n",
       "      <td>0.591</td>\n",
       "      <td>0.060500</td>\n",
       "      <td>0.831</td>\n",
       "      <td>0.000047</td>\n",
       "      <td>0.1900</td>\n",
       "      <td>-5.647</td>\n",
       "      <td>0.0415</td>\n",
       "      <td>144.084</td>\n",
       "      <td>...</td>\n",
       "      <td>0</td>\n",
       "      <td>0</td>\n",
       "      <td>0</td>\n",
       "      <td>0</td>\n",
       "      <td>0</td>\n",
       "      <td>0</td>\n",
       "      <td>0</td>\n",
       "      <td>0</td>\n",
       "      <td>0</td>\n",
       "      <td>0</td>\n",
       "    </tr>\n",
       "    <tr>\n",
       "      <th>4</th>\n",
       "      <td>182693</td>\n",
       "      <td>72</td>\n",
       "      <td>0.695</td>\n",
       "      <td>0.006470</td>\n",
       "      <td>0.818</td>\n",
       "      <td>0.000005</td>\n",
       "      <td>0.0219</td>\n",
       "      <td>-5.379</td>\n",
       "      <td>0.0334</td>\n",
       "      <td>119.965</td>\n",
       "      <td>...</td>\n",
       "      <td>0</td>\n",
       "      <td>0</td>\n",
       "      <td>0</td>\n",
       "      <td>0</td>\n",
       "      <td>0</td>\n",
       "      <td>0</td>\n",
       "      <td>0</td>\n",
       "      <td>0</td>\n",
       "      <td>0</td>\n",
       "      <td>0</td>\n",
       "    </tr>\n",
       "    <tr>\n",
       "      <th>...</th>\n",
       "      <td>...</td>\n",
       "      <td>...</td>\n",
       "      <td>...</td>\n",
       "      <td>...</td>\n",
       "      <td>...</td>\n",
       "      <td>...</td>\n",
       "      <td>...</td>\n",
       "      <td>...</td>\n",
       "      <td>...</td>\n",
       "      <td>...</td>\n",
       "      <td>...</td>\n",
       "      <td>...</td>\n",
       "      <td>...</td>\n",
       "      <td>...</td>\n",
       "      <td>...</td>\n",
       "      <td>...</td>\n",
       "      <td>...</td>\n",
       "      <td>...</td>\n",
       "      <td>...</td>\n",
       "      <td>...</td>\n",
       "      <td>...</td>\n",
       "    </tr>\n",
       "    <tr>\n",
       "      <th>650</th>\n",
       "      <td>242965</td>\n",
       "      <td>91</td>\n",
       "      <td>0.849</td>\n",
       "      <td>0.063500</td>\n",
       "      <td>0.424</td>\n",
       "      <td>0.000000</td>\n",
       "      <td>0.0834</td>\n",
       "      <td>-9.579</td>\n",
       "      <td>0.3240</td>\n",
       "      <td>145.887</td>\n",
       "      <td>...</td>\n",
       "      <td>0</td>\n",
       "      <td>0</td>\n",
       "      <td>0</td>\n",
       "      <td>0</td>\n",
       "      <td>0</td>\n",
       "      <td>0</td>\n",
       "      <td>0</td>\n",
       "      <td>0</td>\n",
       "      <td>0</td>\n",
       "      <td>0</td>\n",
       "    </tr>\n",
       "    <tr>\n",
       "      <th>651</th>\n",
       "      <td>175720</td>\n",
       "      <td>84</td>\n",
       "      <td>0.598</td>\n",
       "      <td>0.054600</td>\n",
       "      <td>0.427</td>\n",
       "      <td>0.000006</td>\n",
       "      <td>0.2100</td>\n",
       "      <td>-8.764</td>\n",
       "      <td>0.0317</td>\n",
       "      <td>76.469</td>\n",
       "      <td>...</td>\n",
       "      <td>0</td>\n",
       "      <td>0</td>\n",
       "      <td>0</td>\n",
       "      <td>0</td>\n",
       "      <td>0</td>\n",
       "      <td>0</td>\n",
       "      <td>0</td>\n",
       "      <td>0</td>\n",
       "      <td>0</td>\n",
       "      <td>0</td>\n",
       "    </tr>\n",
       "    <tr>\n",
       "      <th>653</th>\n",
       "      <td>132780</td>\n",
       "      <td>1</td>\n",
       "      <td>0.778</td>\n",
       "      <td>0.175000</td>\n",
       "      <td>0.695</td>\n",
       "      <td>0.000000</td>\n",
       "      <td>0.1500</td>\n",
       "      <td>-6.865</td>\n",
       "      <td>0.0913</td>\n",
       "      <td>149.996</td>\n",
       "      <td>...</td>\n",
       "      <td>0</td>\n",
       "      <td>0</td>\n",
       "      <td>0</td>\n",
       "      <td>0</td>\n",
       "      <td>0</td>\n",
       "      <td>0</td>\n",
       "      <td>0</td>\n",
       "      <td>0</td>\n",
       "      <td>0</td>\n",
       "      <td>0</td>\n",
       "    </tr>\n",
       "    <tr>\n",
       "      <th>660</th>\n",
       "      <td>221979</td>\n",
       "      <td>89</td>\n",
       "      <td>0.767</td>\n",
       "      <td>0.181000</td>\n",
       "      <td>0.438</td>\n",
       "      <td>0.000000</td>\n",
       "      <td>0.1420</td>\n",
       "      <td>-8.726</td>\n",
       "      <td>0.2900</td>\n",
       "      <td>86.975</td>\n",
       "      <td>...</td>\n",
       "      <td>0</td>\n",
       "      <td>0</td>\n",
       "      <td>0</td>\n",
       "      <td>0</td>\n",
       "      <td>0</td>\n",
       "      <td>0</td>\n",
       "      <td>0</td>\n",
       "      <td>0</td>\n",
       "      <td>0</td>\n",
       "      <td>0</td>\n",
       "    </tr>\n",
       "    <tr>\n",
       "      <th>661</th>\n",
       "      <td>243836</td>\n",
       "      <td>86</td>\n",
       "      <td>0.841</td>\n",
       "      <td>0.084700</td>\n",
       "      <td>0.728</td>\n",
       "      <td>0.000000</td>\n",
       "      <td>0.1490</td>\n",
       "      <td>-3.370</td>\n",
       "      <td>0.0484</td>\n",
       "      <td>130.049</td>\n",
       "      <td>...</td>\n",
       "      <td>0</td>\n",
       "      <td>0</td>\n",
       "      <td>0</td>\n",
       "      <td>0</td>\n",
       "      <td>0</td>\n",
       "      <td>0</td>\n",
       "      <td>0</td>\n",
       "      <td>0</td>\n",
       "      <td>0</td>\n",
       "      <td>0</td>\n",
       "    </tr>\n",
       "  </tbody>\n",
       "</table>\n",
       "<p>3589 rows × 1856 columns</p>\n",
       "</div>"
      ],
      "text/plain": [
       "     length  popularity  danceability  acousticness  energy  instrumentalness  \\\n",
       "0    191706          70         0.561      0.000715   0.741          0.000014   \n",
       "1    239600          84         0.733      0.145000   0.710          0.115000   \n",
       "2    218013          80         0.560      0.008470   0.936          0.000000   \n",
       "3    193106          67         0.591      0.060500   0.831          0.000047   \n",
       "4    182693          72         0.695      0.006470   0.818          0.000005   \n",
       "..      ...         ...           ...           ...     ...               ...   \n",
       "650  242965          91         0.849      0.063500   0.424          0.000000   \n",
       "651  175720          84         0.598      0.054600   0.427          0.000006   \n",
       "653  132780           1         0.778      0.175000   0.695          0.000000   \n",
       "660  221979          89         0.767      0.181000   0.438          0.000000   \n",
       "661  243836          86         0.841      0.084700   0.728          0.000000   \n",
       "\n",
       "     liveness  loudness  speechiness    tempo  ...  artist_the bootleg boy  \\\n",
       "0      0.0822    -4.239       0.0419  139.001  ...                       0   \n",
       "1      0.0956    -5.849       0.0292  127.975  ...                       0   \n",
       "2      0.1610    -5.835       0.0439  112.960  ...                       0   \n",
       "3      0.1900    -5.647       0.0415  144.084  ...                       0   \n",
       "4      0.0219    -5.379       0.0334  119.965  ...                       0   \n",
       "..        ...       ...          ...      ...  ...                     ...   \n",
       "650    0.0834    -9.579       0.3240  145.887  ...                       0   \n",
       "651    0.2100    -8.764       0.0317   76.469  ...                       0   \n",
       "653    0.1500    -6.865       0.0913  149.996  ...                       0   \n",
       "660    0.1420    -8.726       0.2900   86.975  ...                       0   \n",
       "661    0.1490    -3.370       0.0484  130.049  ...                       0   \n",
       "\n",
       "     artist_toastool  artist_weeklyn  artist_whiterosemoxie  artist_will.i.am  \\\n",
       "0                  0               0                      0                 0   \n",
       "1                  0               0                      0                 0   \n",
       "2                  0               0                      0                 0   \n",
       "3                  0               0                      0                 0   \n",
       "4                  0               0                      0                 0   \n",
       "..               ...             ...                    ...               ...   \n",
       "650                0               0                      0                 0   \n",
       "651                0               0                      0                 0   \n",
       "653                0               0                      0                 0   \n",
       "660                0               0                      0                 0   \n",
       "661                0               0                      0                 0   \n",
       "\n",
       "     artist_yaeow  artist_yes I M  artist_yung van  artist_zukrai  \\\n",
       "0               0               0                0              0   \n",
       "1               0               0                0              0   \n",
       "2               0               0                0              0   \n",
       "3               0               0                0              0   \n",
       "4               0               0                0              0   \n",
       "..            ...             ...              ...            ...   \n",
       "650             0               0                0              0   \n",
       "651             0               0                0              0   \n",
       "653             0               0                0              0   \n",
       "660             0               0                0              0   \n",
       "661             0               0                0              0   \n",
       "\n",
       "     artist_Öwnboss  \n",
       "0                 0  \n",
       "1                 0  \n",
       "2                 0  \n",
       "3                 0  \n",
       "4                 0  \n",
       "..              ...  \n",
       "650               0  \n",
       "651               0  \n",
       "653               0  \n",
       "660               0  \n",
       "661               0  \n",
       "\n",
       "[3589 rows x 1856 columns]"
      ]
     },
     "execution_count": 15,
     "metadata": {},
     "output_type": "execute_result"
    }
   ],
   "source": [
    "# # Encode string columns\n",
    "# df_enc = pd.get_dummies(cmt,columns=['artist'])\n",
    "# df_enc"
   ]
  },
  {
   "cell_type": "code",
   "execution_count": 32,
   "id": "77a6f375",
   "metadata": {},
   "outputs": [
    {
     "data": {
      "text/plain": [
       "1    2076\n",
       "2    1016\n",
       "0     497\n",
       "Name: mood, dtype: int64"
      ]
     },
     "execution_count": 32,
     "metadata": {},
     "output_type": "execute_result"
    }
   ],
   "source": [
    "# See breakdown of mood data points in dataset\n",
    "cmt['mood'].value_counts()"
   ]
  },
  {
   "cell_type": "code",
   "execution_count": 33,
   "id": "445a1ef1",
   "metadata": {},
   "outputs": [],
   "source": [
    "# Split data into training and testing\n",
    "\n",
    "# Create our features\n",
    "x_cols = [i for i in cmt.columns if i not in ('mood')]\n",
    "X = cmt[x_cols]\n",
    "\n",
    "# Create our target\n",
    "y = df_enc['mood']"
   ]
  },
  {
   "cell_type": "code",
   "execution_count": 34,
   "id": "58c810da",
   "metadata": {},
   "outputs": [],
   "source": [
    "from sklearn.model_selection import train_test_split\n",
    "X_train, X_test, y_train, y_test = train_test_split(X, y, random_state=1)"
   ]
  },
  {
   "cell_type": "code",
   "execution_count": 35,
   "id": "91a8731f",
   "metadata": {
    "scrolled": true
   },
   "outputs": [
    {
     "data": {
      "text/plain": [
       "Index(['length', 'popularity', 'danceability', 'acousticness', 'energy',\n",
       "       'instrumentalness', 'liveness', 'loudness', 'speechiness', 'tempo',\n",
       "       'time_signature'],\n",
       "      dtype='object')"
      ]
     },
     "execution_count": 35,
     "metadata": {},
     "output_type": "execute_result"
    }
   ],
   "source": [
    "X.columns"
   ]
  },
  {
   "cell_type": "code",
   "execution_count": 36,
   "id": "58c25b94",
   "metadata": {
    "scrolled": true
   },
   "outputs": [
    {
     "data": {
      "text/plain": [
       "1    2076\n",
       "2    1016\n",
       "0     497\n",
       "Name: mood, dtype: int64"
      ]
     },
     "execution_count": 36,
     "metadata": {},
     "output_type": "execute_result"
    }
   ],
   "source": [
    "y.value_counts()"
   ]
  },
  {
   "cell_type": "markdown",
   "id": "9c444101",
   "metadata": {},
   "source": [
    "## Balanced Random Forest Classifier"
   ]
  },
  {
   "cell_type": "code",
   "execution_count": 37,
   "id": "eb863325",
   "metadata": {},
   "outputs": [],
   "source": [
    "# Resample the training data with the BalancedRandomForestClassifier\n",
    "from imblearn.ensemble import BalancedRandomForestClassifier\n",
    "brf_model = BalancedRandomForestClassifier(n_estimators=100, random_state=1)\n",
    "brf_model = brf_model.fit(X_train, y_train)\n",
    "y_pred = brf_model.predict(X_test)"
   ]
  },
  {
   "cell_type": "code",
   "execution_count": 38,
   "id": "f2b837d8",
   "metadata": {},
   "outputs": [
    {
     "data": {
      "text/plain": [
       "0.6681514476614699"
      ]
     },
     "execution_count": 38,
     "metadata": {},
     "output_type": "execute_result"
    }
   ],
   "source": [
    "# Calculated the balanced accuracy score (0.7885466545953005)\n",
    "from sklearn.metrics import accuracy_score\n",
    "accuracy_score(y_test, y_pred)"
   ]
  },
  {
   "cell_type": "code",
   "execution_count": 39,
   "id": "68159598",
   "metadata": {},
   "outputs": [
    {
     "data": {
      "text/plain": [
       "array([[ 59,  13,  44],\n",
       "       [ 63, 375,  77],\n",
       "       [ 68,  33, 166]])"
      ]
     },
     "execution_count": 39,
     "metadata": {},
     "output_type": "execute_result"
    }
   ],
   "source": [
    "# Display the confusion matrix\n",
    "from sklearn.metrics import confusion_matrix\n",
    "confusion_matrix(y_test, y_pred)"
   ]
  },
  {
   "cell_type": "code",
   "execution_count": 40,
   "id": "810ce49a",
   "metadata": {},
   "outputs": [
    {
     "name": "stdout",
     "output_type": "stream",
     "text": [
      "                   pre       rec       spe        f1       geo       iba       sup\n",
      "\n",
      "          0       0.31      0.51      0.83      0.39      0.65      0.41       116\n",
      "          1       0.89      0.73      0.88      0.80      0.80      0.63       515\n",
      "          2       0.58      0.62      0.81      0.60      0.71      0.49       267\n",
      "\n",
      "avg / total       0.72      0.67      0.85      0.69      0.75      0.56       898\n",
      "\n"
     ]
    }
   ],
   "source": [
    "# Print out report (my data analysis)\n",
    "from imblearn.metrics import classification_report_imbalanced\n",
    "print(classification_report_imbalanced(y_test, y_pred))"
   ]
  },
  {
   "cell_type": "markdown",
   "id": "c829f2a6",
   "metadata": {},
   "source": [
    "## Results for Random Forest\n",
    "- Workout. Our algorithm has low precision (31%) and low recall (51%)\n",
    "- Sad. High precision (89%) and decent recall (73%).\n",
    "- Happy. Relatively mediocre precision (58%) and recall (62%). \n",
    "\n",
    "Overall, the Random Forest performs slightly better than the AdaBoost model (see below)."
   ]
  },
  {
   "cell_type": "code",
   "execution_count": 41,
   "id": "85678e45",
   "metadata": {},
   "outputs": [
    {
     "data": {
      "text/plain": [
       "array([0.07565149, 0.07415291, 0.10880735, 0.15625902, 0.18487275,\n",
       "       0.04278679, 0.07166616, 0.09896272, 0.08773962, 0.09353906,\n",
       "       0.00556213])"
      ]
     },
     "execution_count": 41,
     "metadata": {},
     "output_type": "execute_result"
    }
   ],
   "source": [
    "# Calculate feature importance in the Random Forest model.\n",
    "importances = brf_model.feature_importances_\n",
    "importances"
   ]
  },
  {
   "cell_type": "code",
   "execution_count": 42,
   "id": "2540625a",
   "metadata": {},
   "outputs": [
    {
     "data": {
      "text/plain": [
       "[(0.18487275177773113, 'energy'),\n",
       " (0.15625902308355052, 'acousticness'),\n",
       " (0.10880735003897564, 'danceability'),\n",
       " (0.09896272286845698, 'loudness'),\n",
       " (0.09353905559823547, 'tempo'),\n",
       " (0.08773962228028076, 'speechiness'),\n",
       " (0.07565148689282589, 'length'),\n",
       " (0.07415290557775549, 'popularity'),\n",
       " (0.0716661583807949, 'liveness'),\n",
       " (0.04278678866551852, 'instrumentalness'),\n",
       " (0.005562134835874629, 'time_signature')]"
      ]
     },
     "execution_count": 42,
     "metadata": {},
     "output_type": "execute_result"
    }
   ],
   "source": [
    "# We can sort the features by their importance.\n",
    "sorted(zip(brf_model.feature_importances_, X.columns), reverse=True)"
   ]
  },
  {
   "cell_type": "markdown",
   "id": "481543c9",
   "metadata": {},
   "source": [
    "## Ensemble AdaBoost Classifier"
   ]
  },
  {
   "cell_type": "code",
   "execution_count": 43,
   "id": "3ff5f4db",
   "metadata": {},
   "outputs": [],
   "source": [
    "# Train the EasyEnsembleClassifier\n",
    "from imblearn.ensemble import EasyEnsembleClassifier \n",
    "eec = EasyEnsembleClassifier(n_estimators=100, random_state=1)\n",
    "eec = eec.fit(X_train, y_train)\n",
    "y_pred = eec.predict(X_test)"
   ]
  },
  {
   "cell_type": "code",
   "execution_count": 44,
   "id": "3e1746e4",
   "metadata": {},
   "outputs": [
    {
     "data": {
      "text/plain": [
       "0.6547884187082406"
      ]
     },
     "execution_count": 44,
     "metadata": {},
     "output_type": "execute_result"
    }
   ],
   "source": [
    "# Calculated the balanced accuracy score\n",
    "accuracy_score(y_test, y_pred)"
   ]
  },
  {
   "cell_type": "code",
   "execution_count": 45,
   "id": "44b19910",
   "metadata": {},
   "outputs": [
    {
     "data": {
      "text/plain": [
       "array([[ 55,  15,  46],\n",
       "       [ 68, 377,  70],\n",
       "       [ 80,  31, 156]])"
      ]
     },
     "execution_count": 45,
     "metadata": {},
     "output_type": "execute_result"
    }
   ],
   "source": [
    "# Display the confusion matrix\n",
    "confusion_matrix(y_test, y_pred)"
   ]
  },
  {
   "cell_type": "code",
   "execution_count": 46,
   "id": "ae07fb7c",
   "metadata": {},
   "outputs": [
    {
     "name": "stdout",
     "output_type": "stream",
     "text": [
      "                   pre       rec       spe        f1       geo       iba       sup\n",
      "\n",
      "          0       0.27      0.47      0.81      0.34      0.62      0.37       116\n",
      "          1       0.89      0.73      0.88      0.80      0.80      0.63       515\n",
      "          2       0.57      0.58      0.82      0.58      0.69      0.47       267\n",
      "\n",
      "avg / total       0.72      0.65      0.85      0.68      0.75      0.55       898\n",
      "\n"
     ]
    }
   ],
   "source": [
    "# 0 = Workout, 1 = Sad, 2= Happy\n",
    "print(classification_report_imbalanced(y_test, y_pred))"
   ]
  },
  {
   "cell_type": "markdown",
   "id": "6a23dcde",
   "metadata": {},
   "source": [
    "## Results for Gradient Boosting/AdaBooster\n",
    "- Workout. Our algorithm has low precision (27%) and low recall (47%)\n",
    "- Sad. High precision (89%) and decent recall (73%).\n",
    "- Happy. Relatively mediocre precision (57%) and recall (58%). "
   ]
  },
  {
   "cell_type": "markdown",
   "id": "5ac8cfb3",
   "metadata": {},
   "source": [
    "## Notes"
   ]
  },
  {
   "cell_type": "markdown",
   "id": "50874766",
   "metadata": {},
   "source": [
    "Multiclass Classification: A classification task with more than two classes; e.g., classify a set of images of fruits which may be oranges, apples, or pears. Multi-class classification makes the assumption that each sample is assigned to one and only one label: a fruit can be either an apple or a pear but not both at the same time."
   ]
  },
  {
   "cell_type": "code",
   "execution_count": null,
   "id": "e06a2306",
   "metadata": {},
   "outputs": [],
   "source": []
  }
 ],
 "metadata": {
  "kernelspec": {
   "display_name": "mlenv",
   "language": "python",
   "name": "mlenv"
  },
  "language_info": {
   "codemirror_mode": {
    "name": "ipython",
    "version": 3
   },
   "file_extension": ".py",
   "mimetype": "text/x-python",
   "name": "python",
   "nbconvert_exporter": "python",
   "pygments_lexer": "ipython3",
   "version": "3.7.11"
  }
 },
 "nbformat": 4,
 "nbformat_minor": 5
}
