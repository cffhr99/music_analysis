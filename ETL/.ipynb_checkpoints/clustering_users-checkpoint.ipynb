{
 "cells": [
  {
   "cell_type": "code",
   "execution_count": 1,
   "id": "a13f5b8e",
   "metadata": {},
   "outputs": [],
   "source": [
    "import spotipy\n",
    "from spotipy.oauth2 import SpotifyClientCredentials\n",
    "import pandas as pd\n",
    "import time \n",
    "from config import client_id, client_secret\n",
    "import re\n",
    "\n",
    "client_credentials_manager = SpotifyClientCredentials(client_id, client_secret)\n",
    "sp = spotipy.Spotify(client_credentials_manager=client_credentials_manager)"
   ]
  },
  {
   "cell_type": "code",
   "execution_count": 2,
   "id": "350ed184",
   "metadata": {},
   "outputs": [],
   "source": [
    "# Gabby, Stephanie\n",
    "users = [\"12121638402\",\"1246196398\"]"
   ]
  },
  {
   "cell_type": "code",
   "execution_count": 30,
   "id": "30754a3b",
   "metadata": {},
   "outputs": [],
   "source": [
    "json = {}\n",
    "for user in users:\n",
    "    json[user] = sp.user_playlists(user)"
   ]
  },
  {
   "cell_type": "code",
   "execution_count": 31,
   "id": "869731a2",
   "metadata": {},
   "outputs": [],
   "source": [
    "playlist_dict = {}\n",
    "\n",
    "# For every user in the list, access the json data from the dictionary\n",
    "for user in users:\n",
    "    json_data = json[user]\n",
    "    num_playlists = len(json_data['items']) \n",
    "    \n",
    "    playlists = []\n",
    "    for i in range(num_playlists):\n",
    "        if i - num_playlists < 0:\n",
    "            playlists.append(json_data['items'][i]['id'])\n",
    "        else:\n",
    "            playlist_dict[user] = playlists"
   ]
  },
  {
   "cell_type": "code",
   "execution_count": 33,
   "id": "004eb17d",
   "metadata": {},
   "outputs": [
    {
     "ename": "KeyError",
     "evalue": "'12121638402'",
     "output_type": "error",
     "traceback": [
      "\u001b[0;31m---------------------------------------------------------------------------\u001b[0m",
      "\u001b[0;31mKeyError\u001b[0m                                  Traceback (most recent call last)",
      "\u001b[0;32m<ipython-input-33-e09cecdc3f62>\u001b[0m in \u001b[0;36m<module>\u001b[0;34m\u001b[0m\n\u001b[0;32m----> 1\u001b[0;31m \u001b[0mplaylist_dict\u001b[0m\u001b[0;34m[\u001b[0m\u001b[0;34m'12121638402'\u001b[0m\u001b[0;34m]\u001b[0m\u001b[0;34m\u001b[0m\u001b[0;34m\u001b[0m\u001b[0m\n\u001b[0m",
      "\u001b[0;31mKeyError\u001b[0m: '12121638402'"
     ]
    }
   ],
   "source": [
    "playlist_dict['12121638402']"
   ]
  },
  {
   "cell_type": "code",
   "execution_count": null,
   "id": "78ed4d42",
   "metadata": {},
   "outputs": [],
   "source": [
    "# import spotipy\n",
    "# from spotipy.oauth2 import SpotifyOAuth\n",
    "# import os\n",
    "# from config import client_id, client_secret\n",
    "\n",
    "# sp = spotipy.Spotify(auth_manager=SpotifyOAuth(client_id=client_id,\n",
    "#                                                client_secret=client_secret,\n",
    "#                                                redirect_uri=\"http://www.google.com\",\n",
    "#                                                scope=\"user-library-read\"))\n",
    "\n",
    "# results = sp.current_user_saved_tracks()\n",
    "# for idx, item in enumerate(results['items']):\n",
    "#     track = item['track']\n",
    "#     print(idx, track['artists'][0]['name'], \" – \", track['name'])"
   ]
  }
 ],
 "metadata": {
  "kernelspec": {
   "display_name": "PythonData",
   "language": "python",
   "name": "pythondata"
  },
  "language_info": {
   "codemirror_mode": {
    "name": "ipython",
    "version": 3
   },
   "file_extension": ".py",
   "mimetype": "text/x-python",
   "name": "python",
   "nbconvert_exporter": "python",
   "pygments_lexer": "ipython3",
   "version": "3.7.10"
  }
 },
 "nbformat": 4,
 "nbformat_minor": 5
}
