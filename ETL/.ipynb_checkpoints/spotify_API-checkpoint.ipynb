{
 "cells": [
  {
   "cell_type": "code",
   "execution_count": 2,
   "id": "221ebea7",
   "metadata": {},
   "outputs": [],
   "source": [
    "import requests\n",
    "import datetime\n",
    "import base64\n",
    "import re\n",
    "import pandas as pd\n",
    "import traceback\n",
    "import logging\n",
    "import math\n",
    "import os"
   ]
  },
  {
   "cell_type": "code",
   "execution_count": 3,
   "id": "e2585988",
   "metadata": {},
   "outputs": [],
   "source": [
    "from config import client_id, client_secret"
   ]
  },
  {
   "cell_type": "code",
   "execution_count": 4,
   "id": "95eb7a6e",
   "metadata": {},
   "outputs": [
    {
     "data": {
      "text/plain": [
       "str"
      ]
     },
     "execution_count": 4,
     "metadata": {},
     "output_type": "execute_result"
    }
   ],
   "source": [
    "client_creds = f\"{client_id}:{client_secret}\"\n",
    "type(client_creds)"
   ]
  },
  {
   "cell_type": "code",
   "execution_count": 5,
   "id": "60c76d51",
   "metadata": {},
   "outputs": [
    {
     "data": {
      "text/plain": [
       "bytes"
      ]
     },
     "execution_count": 5,
     "metadata": {},
     "output_type": "execute_result"
    }
   ],
   "source": [
    "client_creds_b64 = base64.b64encode(client_creds.encode())\n",
    "type(client_creds_b64)"
   ]
  },
  {
   "cell_type": "code",
   "execution_count": 6,
   "id": "7f524884",
   "metadata": {},
   "outputs": [],
   "source": [
    "token_url = \"https://accounts.spotify.com/api/token\"\n",
    "method = \"POST\"\n",
    "token_data = {\n",
    "    \"grant_type\": \"client_credentials\"\n",
    "}\n",
    "token_headers = {\n",
    "    \"Authorization\": f\"Basic {client_creds_b64.decode('utf-8')}\",\n",
    "    \"Content-Type\": 'application/x-www-form-urlencoded' # <base64 encoded client_id:client_secret>\n",
    "}"
   ]
  },
  {
   "cell_type": "code",
   "execution_count": 7,
   "id": "aefd0f28",
   "metadata": {},
   "outputs": [],
   "source": [
    "r = requests.post(token_url, data=token_data, headers=token_headers)\n",
    "json = r.json()\n",
    "token = json['access_token']\n",
    "valid_request = r.status_code in range(200, 299)"
   ]
  },
  {
   "cell_type": "code",
   "execution_count": 8,
   "id": "d12ddb68",
   "metadata": {},
   "outputs": [],
   "source": [
    "# Test if your access token has expired (it only lasts 60 minutes, \n",
    "# then you have to run cells to generate new one)\n",
    "if valid_request:\n",
    "    token_response_data = r.json()\n",
    "    now = datetime.datetime.now()\n",
    "    access_token = token_response_data['access_token']\n",
    "    expires_in = token_response_data['expires_in'] # seconds\n",
    "    expires = now + datetime.timedelta(seconds=expires_in)\n",
    "    did_expire = expires < now"
   ]
  },
  {
   "cell_type": "code",
   "execution_count": 9,
   "id": "f45598c5",
   "metadata": {},
   "outputs": [],
   "source": [
    "# Function for getting request from Spotify\n",
    "# You will have to edit the URL for querying playlist, artist, album, user info, etc.\n",
    "def getRequest(url, token):\n",
    "    data = requests.get(url, headers={\"Accept\": \"application/json\",\n",
    "                                   \"Content-Type\": \"application/json\",\n",
    "                                   \"Authorization\": f\"Bearer {token}\"})\n",
    "    return data.json()"
   ]
  },
  {
   "cell_type": "code",
   "execution_count": 10,
   "id": "1cf6d9c0",
   "metadata": {},
   "outputs": [],
   "source": [
    "def getArtistPlaylistURIs(playlists_json):\n",
    "    num_playlists = len(playlists_json['items'])\n",
    "    URIs = []\n",
    "    for i in range(num_playlists):\n",
    "        URIs.append(playlists_json['items'][i]['id'])\n",
    "    return URIs"
   ]
  },
  {
   "cell_type": "code",
   "execution_count": 11,
   "id": "613ac3b3",
   "metadata": {},
   "outputs": [],
   "source": [
    "def getURI(uri_list):\n",
    "#     p = re.compile(r'(?:spotify:playlist:)(\\w{22})')\n",
    "    p = re.compile(r'(?:spotify:(?:album|playlist|artist|track):)(\\w{22})')\n",
    "    URIs = [p.match(item).group(1) for item in uri_list]\n",
    "    return URIs"
   ]
  },
  {
   "cell_type": "code",
   "execution_count": 12,
   "id": "033bfb5f",
   "metadata": {},
   "outputs": [],
   "source": [
    "# playlist has to be in the form of json data from playlist query\n",
    "def getSongInfo(playlist):\n",
    "    length = len(playlist['items'])\n",
    "    band_names = []\n",
    "    band_ids = []\n",
    "    song_names = []\n",
    "    release_dates = []\n",
    "    popularity = []\n",
    "    uri_list = []\n",
    "    for i in range(len(playlist['items'])):\n",
    "        band_names.append(playlist['items'][i]['track']['artists'][0]['name'])\n",
    "        band_ids.append(playlist['items'][i]['track']['artists'][0]['id'])\n",
    "        song_names.append(playlist['items'][i]['track']['name'])\n",
    "        release_dates.append(playlist['items'][i]['track']['album']['release_date'])\n",
    "        popularity.append(playlist['items'][i]['track']['popularity'])\n",
    "        uri_list.append(playlist['items'][i]['track']['uri'])\n",
    "        \n",
    "    data = {\n",
    "        \"band_name\":band_names,\n",
    "        \"band_uri\":band_ids,\n",
    "        \"song_name\":song_names,\n",
    "        \"release_date\": release_dates,\n",
    "        \"popularity\":popularity,\n",
    "        \"track_uri\": getURI(uri_list)\n",
    "    }\n",
    "    \n",
    "    df = pd.DataFrame(data)\n",
    "    return df"
   ]
  },
  {
   "cell_type": "code",
   "execution_count": 13,
   "id": "9cc296dc",
   "metadata": {
    "scrolled": true
   },
   "outputs": [],
   "source": [
    "def getPlaylists(user_id):\n",
    "    # Configure the URL\n",
    "    url = f\"https://api.spotify.com/v1/users/{user_id}/playlists?offset=0&limit=50\"\n",
    "\n",
    "    # Grab all the user's playlists (maximum of 50, \n",
    "    # unfortunately due to Spotify's APIs)\n",
    "    playlists = getRequest(url, token)\n",
    "\n",
    "    # Create a list of playlist's URIs \n",
    "    playlist_URIs = getArtistPlaylistURIs(playlists)\n",
    "    return playlist_URIs"
   ]
  },
  {
   "cell_type": "code",
   "execution_count": 14,
   "id": "63da8ec8",
   "metadata": {},
   "outputs": [],
   "source": [
    "# For every user in the list, grab their playlists\n",
    "user_dict = {}\n",
    "user_list = ['12121638402',\"bcemcphilamy\",\"1237116029\",\"1246196398\",\"atommyco\"]\n",
    "for user in user_list:\n",
    "    playlists = getPlaylists(user)\n",
    "    \n",
    "    track_data = []\n",
    "    for playlist_id in playlists: \n",
    "        url = f'https://api.spotify.com/v1/playlists/{playlist_id}/tracks'\n",
    "        json = getRequest(url, token)\n",
    "        track_data.append(json)\n",
    "    \n",
    "    user_dict[user] = track_data"
   ]
  },
  {
   "cell_type": "code",
   "execution_count": 19,
   "id": "c2c0a1fc",
   "metadata": {},
   "outputs": [
    {
     "name": "stdout",
     "output_type": "stream",
     "text": [
      "There are 50 playlists for User 12121638402.\n",
      "There are 16 playlists for User bcemcphilamy.\n",
      "There are 20 playlists for User 1237116029.\n",
      "There are 11 playlists for User 1246196398.\n",
      "There are 50 playlists for User atommyco.\n"
     ]
    }
   ],
   "source": [
    "# The key is the user's username/id\n",
    "# The value is a list of dictionaries, with each dictionary corresponding \n",
    "# to all the songs in a playlist\n",
    "for i in user_list:\n",
    "    print(f\"There are {len(user_dict[i])} playlists for User {i}.\")"
   ]
  },
  {
   "cell_type": "code",
   "execution_count": 20,
   "id": "69cb0743",
   "metadata": {},
   "outputs": [
    {
     "name": "stdout",
     "output_type": "stream",
     "text": [
      "Number of songs is 29\n",
      "Number of songs is 19\n",
      "Number of songs is 21\n",
      "Number of songs is 19\n"
     ]
    }
   ],
   "source": [
    "brigid = user_dict['bcemcphilamy'][:4]\n",
    "for playlist in brigid:\n",
    "    print(f\"Number of songs is {len(playlist['items'])}\")"
   ]
  },
  {
   "cell_type": "code",
   "execution_count": 21,
   "id": "faec37d1",
   "metadata": {
    "scrolled": true
   },
   "outputs": [
    {
     "data": {
      "text/plain": [
       "29"
      ]
     },
     "execution_count": 21,
     "metadata": {},
     "output_type": "execute_result"
    }
   ],
   "source": [
    "brigid_playlists = user_dict['bcemcphilamy']\n",
    "len(brigid_playlists)\n",
    "len(brigid_playlists[0]['items'])"
   ]
  },
  {
   "cell_type": "code",
   "execution_count": 24,
   "id": "a227fc53",
   "metadata": {},
   "outputs": [],
   "source": [
    "user_playlist = user_dict['12121638402']\n",
    "\n",
    "def getPlaylistSongs(user_playlists, user):\n",
    "    for i in range(len(user_playlists)):\n",
    "        if i==0:\n",
    "            try:\n",
    "                df = getSongInfo(user_playlists[i])\n",
    "            except (TypeError):\n",
    "                pass\n",
    "        else:\n",
    "            try:\n",
    "                df = df.append(getSongInfo(user_playlists[i]))\n",
    "            except (TypeError):\n",
    "                pass\n",
    "    \n",
    "    df['user'] = user\n",
    "    return df"
   ]
  },
  {
   "cell_type": "code",
   "execution_count": null,
   "id": "8e32e6aa",
   "metadata": {},
   "outputs": [],
   "source": [
    "for user in user_list:\n",
    "    user_playlist = user_dict[user]\n",
    "    "
   ]
  },
  {
   "cell_type": "code",
   "execution_count": 25,
   "id": "ab9dac90",
   "metadata": {},
   "outputs": [
    {
     "data": {
      "text/html": [
       "<div>\n",
       "<style scoped>\n",
       "    .dataframe tbody tr th:only-of-type {\n",
       "        vertical-align: middle;\n",
       "    }\n",
       "\n",
       "    .dataframe tbody tr th {\n",
       "        vertical-align: top;\n",
       "    }\n",
       "\n",
       "    .dataframe thead th {\n",
       "        text-align: right;\n",
       "    }\n",
       "</style>\n",
       "<table border=\"1\" class=\"dataframe\">\n",
       "  <thead>\n",
       "    <tr style=\"text-align: right;\">\n",
       "      <th></th>\n",
       "      <th>band_name</th>\n",
       "      <th>band_uri</th>\n",
       "      <th>song_name</th>\n",
       "      <th>release_date</th>\n",
       "      <th>popularity</th>\n",
       "      <th>track_uri</th>\n",
       "      <th>user</th>\n",
       "    </tr>\n",
       "  </thead>\n",
       "  <tbody>\n",
       "    <tr>\n",
       "      <th>0</th>\n",
       "      <td>Slow Pulp</td>\n",
       "      <td>2JFTRDi5v7JtqoouVe1z5D</td>\n",
       "      <td>In Too Deep</td>\n",
       "      <td>2021-09-15</td>\n",
       "      <td>49</td>\n",
       "      <td>76rOZ9F8s8mX9N3NhZBgxt</td>\n",
       "      <td>12121638402</td>\n",
       "    </tr>\n",
       "    <tr>\n",
       "      <th>1</th>\n",
       "      <td>Snail Mail</td>\n",
       "      <td>4QkSD9TRUnMtI8Fq1jXJJe</td>\n",
       "      <td>Valentine</td>\n",
       "      <td>2021-09-15</td>\n",
       "      <td>60</td>\n",
       "      <td>21brT2CZwKz8VPCf0nFxiP</td>\n",
       "      <td>12121638402</td>\n",
       "    </tr>\n",
       "    <tr>\n",
       "      <th>2</th>\n",
       "      <td>Coco</td>\n",
       "      <td>4NxTtZTeJqQ1n27i2qnPCe</td>\n",
       "      <td>Knots</td>\n",
       "      <td>2021-08-24</td>\n",
       "      <td>23</td>\n",
       "      <td>2uDlO65509ESfCy4s07pYT</td>\n",
       "      <td>12121638402</td>\n",
       "    </tr>\n",
       "    <tr>\n",
       "      <th>3</th>\n",
       "      <td>Kacey Musgraves</td>\n",
       "      <td>70kkdajctXSbqSMJbQO424</td>\n",
       "      <td>simple times</td>\n",
       "      <td>2021-09-10</td>\n",
       "      <td>68</td>\n",
       "      <td>1lNEXDlxVhsWaq2DLBUDgC</td>\n",
       "      <td>12121638402</td>\n",
       "    </tr>\n",
       "    <tr>\n",
       "      <th>4</th>\n",
       "      <td>Kacey Musgraves</td>\n",
       "      <td>70kkdajctXSbqSMJbQO424</td>\n",
       "      <td>breadwinner</td>\n",
       "      <td>2021-09-10</td>\n",
       "      <td>74</td>\n",
       "      <td>2stbjvpFujerfDUuUUPX7o</td>\n",
       "      <td>12121638402</td>\n",
       "    </tr>\n",
       "    <tr>\n",
       "      <th>...</th>\n",
       "      <td>...</td>\n",
       "      <td>...</td>\n",
       "      <td>...</td>\n",
       "      <td>...</td>\n",
       "      <td>...</td>\n",
       "      <td>...</td>\n",
       "      <td>...</td>\n",
       "    </tr>\n",
       "    <tr>\n",
       "      <th>95</th>\n",
       "      <td>Weezer</td>\n",
       "      <td>3jOstUTkEu2JkjvRdBA5Gu</td>\n",
       "      <td>El Scorcho</td>\n",
       "      <td>1996-09-24</td>\n",
       "      <td>0</td>\n",
       "      <td>1PB7gRWcvefzu7t3LJLUlf</td>\n",
       "      <td>12121638402</td>\n",
       "    </tr>\n",
       "    <tr>\n",
       "      <th>96</th>\n",
       "      <td>The Goo Goo Dolls</td>\n",
       "      <td>2sil8z5kiy4r76CRTXxBCA</td>\n",
       "      <td>Name - New Version</td>\n",
       "      <td>2007-11-06</td>\n",
       "      <td>37</td>\n",
       "      <td>6WrP9bvTeNLalVEtLCgyhm</td>\n",
       "      <td>12121638402</td>\n",
       "    </tr>\n",
       "    <tr>\n",
       "      <th>97</th>\n",
       "      <td>Green Day</td>\n",
       "      <td>7oPftvlwr6VrsViSDV7fJY</td>\n",
       "      <td>When I Come Around</td>\n",
       "      <td>1994-02-01</td>\n",
       "      <td>74</td>\n",
       "      <td>1Dr1fXbc2IxaK1Mu8P8Khz</td>\n",
       "      <td>12121638402</td>\n",
       "    </tr>\n",
       "    <tr>\n",
       "      <th>98</th>\n",
       "      <td>Fall Out Boy</td>\n",
       "      <td>4UXqAaa6dQYAk18Lv7PEgX</td>\n",
       "      <td>Sugar, We're Goin Down</td>\n",
       "      <td>2005-01-01</td>\n",
       "      <td>0</td>\n",
       "      <td>4zjFqN9fXAw91GNgJOCYX6</td>\n",
       "      <td>12121638402</td>\n",
       "    </tr>\n",
       "    <tr>\n",
       "      <th>99</th>\n",
       "      <td>blink-182</td>\n",
       "      <td>6FBDaR13swtiWwGhX1WQsP</td>\n",
       "      <td>Anthem Part Two</td>\n",
       "      <td>2001-01-01</td>\n",
       "      <td>21</td>\n",
       "      <td>2rIi5G6PeRyL16xGWIICEe</td>\n",
       "      <td>12121638402</td>\n",
       "    </tr>\n",
       "  </tbody>\n",
       "</table>\n",
       "<p>3063 rows × 7 columns</p>\n",
       "</div>"
      ],
      "text/plain": [
       "            band_name                band_uri               song_name  \\\n",
       "0           Slow Pulp  2JFTRDi5v7JtqoouVe1z5D             In Too Deep   \n",
       "1          Snail Mail  4QkSD9TRUnMtI8Fq1jXJJe               Valentine   \n",
       "2                Coco  4NxTtZTeJqQ1n27i2qnPCe                   Knots   \n",
       "3     Kacey Musgraves  70kkdajctXSbqSMJbQO424            simple times   \n",
       "4     Kacey Musgraves  70kkdajctXSbqSMJbQO424             breadwinner   \n",
       "..                ...                     ...                     ...   \n",
       "95             Weezer  3jOstUTkEu2JkjvRdBA5Gu              El Scorcho   \n",
       "96  The Goo Goo Dolls  2sil8z5kiy4r76CRTXxBCA      Name - New Version   \n",
       "97          Green Day  7oPftvlwr6VrsViSDV7fJY      When I Come Around   \n",
       "98       Fall Out Boy  4UXqAaa6dQYAk18Lv7PEgX  Sugar, We're Goin Down   \n",
       "99          blink-182  6FBDaR13swtiWwGhX1WQsP         Anthem Part Two   \n",
       "\n",
       "   release_date  popularity               track_uri         user  \n",
       "0    2021-09-15          49  76rOZ9F8s8mX9N3NhZBgxt  12121638402  \n",
       "1    2021-09-15          60  21brT2CZwKz8VPCf0nFxiP  12121638402  \n",
       "2    2021-08-24          23  2uDlO65509ESfCy4s07pYT  12121638402  \n",
       "3    2021-09-10          68  1lNEXDlxVhsWaq2DLBUDgC  12121638402  \n",
       "4    2021-09-10          74  2stbjvpFujerfDUuUUPX7o  12121638402  \n",
       "..          ...         ...                     ...          ...  \n",
       "95   1996-09-24           0  1PB7gRWcvefzu7t3LJLUlf  12121638402  \n",
       "96   2007-11-06          37  6WrP9bvTeNLalVEtLCgyhm  12121638402  \n",
       "97   1994-02-01          74  1Dr1fXbc2IxaK1Mu8P8Khz  12121638402  \n",
       "98   2005-01-01           0  4zjFqN9fXAw91GNgJOCYX6  12121638402  \n",
       "99   2001-01-01          21  2rIi5G6PeRyL16xGWIICEe  12121638402  \n",
       "\n",
       "[3063 rows x 7 columns]"
      ]
     },
     "execution_count": 25,
     "metadata": {},
     "output_type": "execute_result"
    }
   ],
   "source": [
    "gabby_df = getPlaylistSongs(user_playlist, \"12121638402\")\n",
    "gabby_df"
   ]
  },
  {
   "cell_type": "code",
   "execution_count": null,
   "id": "97d0ef43",
   "metadata": {},
   "outputs": [],
   "source": [
    "for user in user_list:\n",
    "    # JSON is a list of dictionaries \n",
    "    json = user_dict[user]\n",
    "    \n",
    "    for \n",
    "    songs = getSongInfo(json)"
   ]
  },
  {
   "cell_type": "code",
   "execution_count": null,
   "id": "dd73ed16",
   "metadata": {
    "scrolled": true
   },
   "outputs": [],
   "source": [
    "# playlist_URIs_cleaned.remove(\"4W6yjf9ChXo9lHHVH9FERe\")\n",
    "for playlist_id in playlist_URIs_cleaned:\n",
    "    \n",
    "    url = f'https://api.spotify.com/v1/playlists/{playlist_id}/tracks'\n",
    "    playlist_json = getRequest(url, token)\n",
    "    new_df = getSongInfo(playlist_json)\n",
    "    \n",
    "    try:\n",
    "        df = df.append(new_df)\n",
    "    except (TypeError, KeyError):\n",
    "        print(\"'NoneType' object is not subscriptable\")\n",
    "        \n",
    "print(df)"
   ]
  },
  {
   "cell_type": "code",
   "execution_count": null,
   "id": "925ec990",
   "metadata": {},
   "outputs": [],
   "source": [
    "print(df.duplicated().sum())"
   ]
  },
  {
   "cell_type": "code",
   "execution_count": null,
   "id": "bc78345f",
   "metadata": {},
   "outputs": [],
   "source": [
    "track_json = getTrackInfo(df)"
   ]
  },
  {
   "cell_type": "code",
   "execution_count": null,
   "id": "75e7d4ed",
   "metadata": {},
   "outputs": [],
   "source": [
    "track_json[21]['audio_features'][99]"
   ]
  },
  {
   "cell_type": "code",
   "execution_count": null,
   "id": "56739c65",
   "metadata": {},
   "outputs": [],
   "source": [
    "len(track_json)"
   ]
  },
  {
   "cell_type": "code",
   "execution_count": null,
   "id": "42572309",
   "metadata": {},
   "outputs": [],
   "source": [
    "tracks = getTrackInfo(df)"
   ]
  },
  {
   "cell_type": "code",
   "execution_count": null,
   "id": "a8521678",
   "metadata": {},
   "outputs": [],
   "source": [
    "tracks"
   ]
  },
  {
   "cell_type": "code",
   "execution_count": null,
   "id": "517380f8",
   "metadata": {},
   "outputs": [],
   "source": [
    "def getArtistJSON(df):   \n",
    "    band_uris = list(df['band_uri'])\n",
    "    uris = list(dict.fromkeys(band_uris))\n",
    "\n",
    "    strings = []\n",
    "    iterations = math.ceil(len(uris) / 50)\n",
    "    for i in range(iterations):\n",
    "        front_index = i*50\n",
    "        end_index = front_index + 50\n",
    "        uri_chunk = uris[front_index:end_index]\n",
    "        joined_string = \",\".join(uri_chunk)\n",
    "        strings.append(joined_string)\n",
    "\n",
    "    # joined_string = \",\".join(uris)\n",
    "    artists_json = []\n",
    "    for i in strings:\n",
    "        url = f\"https://api.spotify.com/v1/artists?ids={i}\"\n",
    "        artists = getRequest(url, token)\n",
    "        artists_json.append(artists)\n",
    "    \n",
    "    return artists_json"
   ]
  },
  {
   "cell_type": "code",
   "execution_count": null,
   "id": "ea331250",
   "metadata": {},
   "outputs": [],
   "source": [
    "def artistDF(list_JSON):\n",
    "    band_uris = []\n",
    "    genres = []\n",
    "    names = []\n",
    "    followers = []\n",
    "    for i in range(len(list_JSON)):\n",
    "        num = len(list_JSON[i]['artists'])\n",
    "        for j in range(num):\n",
    "            genres.append(list_JSON[i]['artists'][j]['genres'])\n",
    "            names.append(list_JSON[i]['artists'][j]['name'])\n",
    "            band_uris.append(list_JSON[i]['artists'][j]['id'])\n",
    "            followers.append(list_JSON[i]['artists'][j]['followers']['total'])\n",
    "    \n",
    "    data = {\n",
    "        'band_uri': band_uris,\n",
    "        'genres': genres,\n",
    "        'names': names,\n",
    "        'followers': followers\n",
    "    }\n",
    "    \n",
    "    df = pd.DataFrame(data)\n",
    "    return df"
   ]
  },
  {
   "cell_type": "code",
   "execution_count": null,
   "id": "3f52c2aa",
   "metadata": {},
   "outputs": [],
   "source": [
    "artists_json = getArtistJSON(df)"
   ]
  },
  {
   "cell_type": "code",
   "execution_count": null,
   "id": "b477fc61",
   "metadata": {},
   "outputs": [],
   "source": [
    "artists_df = artistDF(artists_json)"
   ]
  },
  {
   "cell_type": "code",
   "execution_count": null,
   "id": "aaeeb5ea",
   "metadata": {},
   "outputs": [],
   "source": [
    "artists_df"
   ]
  },
  {
   "cell_type": "code",
   "execution_count": null,
   "id": "e249206f",
   "metadata": {
    "scrolled": true
   },
   "outputs": [],
   "source": [
    "gabby_join = df.join(artists_df.set_index('band_uri'), on='band_uri')"
   ]
  },
  {
   "cell_type": "code",
   "execution_count": null,
   "id": "c1662a7b",
   "metadata": {},
   "outputs": [],
   "source": [
    "def getTrackInfo(df):\n",
    "    track_uris = list(df['track_uri'])\n",
    "    uris = list(dict.fromkeys(track_uris))\n",
    "    \n",
    "    strings = []\n",
    "    iterations = math.ceil(len(uris) / 100)\n",
    "    for i in range(iterations):\n",
    "        front_index = i*100\n",
    "        end_index = front_index + 100\n",
    "        uri_chunk = uris[front_index:end_index]\n",
    "        joined_string = \",\".join(uri_chunk)\n",
    "        strings.append(joined_string)\n",
    "\n",
    "    track_json = []\n",
    "    for i in strings:\n",
    "        url = f\"https://api.spotify.com/v1/audio-features?ids={i}\"\n",
    "        tracks = getRequest(url, token)\n",
    "        track_json.append(tracks)\n",
    "    \n",
    "    danceability = []\n",
    "    energy = []\n",
    "    key = []\n",
    "    loudness = []\n",
    "    mode = []\n",
    "    speechiness = []\n",
    "    acousticness = []\n",
    "    instrumentalness = []\n",
    "    liveness = []\n",
    "    valence = []\n",
    "    tempo = []\n",
    "    track_id = []\n",
    "    duration_ms = []\n",
    "    time_signature = []\n",
    "    \n",
    "    # Loop through all of the JSON lists\n",
    "    for i in range(len(track_json)):\n",
    "        for j in range(len(track_json[i]['audio_features'])):\n",
    "            track = track_json[i]\n",
    "            audioFeature = track['audio_features'][j]\n",
    "            danceability.append(audioFeature['danceability'])\n",
    "            energy.append(audioFeature['energy'])\n",
    "            key.append(audioFeature['key'])\n",
    "            loudness.append(audioFeature['loudness']) \n",
    "            mode.append(audioFeature['mode']) \n",
    "            speechiness.append(audioFeature['speechiness'])\n",
    "            acousticness.append(audioFeature['acousticness']) \n",
    "            instrumentalness.append(audioFeature['instrumentalness']) \n",
    "            liveness.append(audioFeature['liveness']) \n",
    "            valence.append(audioFeature['valence']) \n",
    "            tempo.append(audioFeature['tempo']) \n",
    "            track_id.append(audioFeature['id']) \n",
    "            duration_ms.append(audioFeature['duration_ms']) \n",
    "            time_signature.append(audioFeature['time_signature']) \n",
    "            \n",
    "    data = {\n",
    "        'track_uri': track_id,\n",
    "        'danceability': danceability,\n",
    "        'energy': energy,\n",
    "        'key': key,\n",
    "        'loudness':loudness,\n",
    "        'mode':mode,\n",
    "        \"speechiness\":speechiness,\n",
    "        \"acousticness\":acousticness,\n",
    "        \"instrumentalness\": instrumentalness,\n",
    "        \"liveness\":liveness,\n",
    "        \"valence\":valence,\n",
    "        \"tempo\": tempo,\n",
    "        \"duration_md\":duration_ms,\n",
    "        \"time_signature\":time_signature\n",
    "    }\n",
    "    \n",
    "    df = pd.DataFrame(data)\n",
    "    return df\n",
    "    "
   ]
  },
  {
   "cell_type": "code",
   "execution_count": null,
   "id": "cfb5de4f",
   "metadata": {},
   "outputs": [],
   "source": [
    "tracks.head()"
   ]
  },
  {
   "cell_type": "code",
   "execution_count": null,
   "id": "cffe6e28",
   "metadata": {},
   "outputs": [],
   "source": [
    "gabby_join = gabby_join.set_index('track_uri')"
   ]
  },
  {
   "cell_type": "code",
   "execution_count": null,
   "id": "fc560824",
   "metadata": {},
   "outputs": [],
   "source": [
    "tracks = tracks.set_index('track_uri')"
   ]
  },
  {
   "cell_type": "code",
   "execution_count": null,
   "id": "b66cf0f1",
   "metadata": {},
   "outputs": [],
   "source": [
    "gabby_join.merge(tracks, on='track_uri', how='left')\n",
    "gabby_join.describe()"
   ]
  },
  {
   "cell_type": "code",
   "execution_count": null,
   "id": "27f08259",
   "metadata": {},
   "outputs": [],
   "source": [
    "def getUserPlaylist(user_id):\n",
    "    # Configure the URL\n",
    "    url = f\"https://api.spotify.com/v1/users/{user_id}/playlists?offset=0&limit=50\"\n",
    "\n",
    "    # Grab all the user's playlists (maximum of 50, unfortunately due to Spotify's APIs)\n",
    "    playlists = getRequest(url, token)\n",
    "\n",
    "    # Create a list of playlist's URIs \n",
    "    playlist_URIs = getArtistPlaylistURIs(playlists)\n",
    "\n",
    "    # Filter this list on just the URIs\n",
    "    playlist_URIs_cleaned = getURI(playlist_URIs)\n",
    "    print(len(playlist_URIs_cleaned))\n",
    "    \n",
    "    playlist_id = playlist_URIs_cleaned[0]\n",
    "    url = f'https://api.spotify.com/v1/playlists/{playlist_id}/tracks'\n",
    "    playlist_json = getRequest(url, token)\n",
    "    df = getSongInfo(playlist_json)\n",
    "    \n",
    "#     playlist_URIs_cleaned.remove(\"4W6yjf9ChXo9lHHVH9FERe\")\n",
    "    for playlist_id in playlist_URIs_cleaned[1:]:\n",
    "    \n",
    "        url = f'https://api.spotify.com/v1/playlists/{playlist_id}/tracks'\n",
    "        playlist_json = getRequest(url, token)\n",
    "        new_df = getSongInfo(playlist_json)\n",
    "\n",
    "        try:\n",
    "            df = df.append(new_df)\n",
    "        except (TypeError, KeyError):\n",
    "            print(\"'NoneType' object is not subscriptable\")\n",
    "   \n",
    "    return df"
   ]
  },
  {
   "cell_type": "code",
   "execution_count": null,
   "id": "ff0e8d59",
   "metadata": {},
   "outputs": [],
   "source": [
    "brigid_df = getUserPlaylist(\"bcemcphilamy\")\n",
    "brigid_artists_json = getArtistJSON(brigid_df)\n",
    "brigid_artists_df = artistDF(brigid_artists_json)"
   ]
  },
  {
   "cell_type": "code",
   "execution_count": null,
   "id": "f7de51c3",
   "metadata": {
    "scrolled": false
   },
   "outputs": [],
   "source": [
    "brigid_join = brigid_df.join(brigid_artists_df.set_index('band_uri'), on='band_uri')\n",
    "brigid_join"
   ]
  },
  {
   "cell_type": "code",
   "execution_count": null,
   "id": "6e24c2c0",
   "metadata": {},
   "outputs": [],
   "source": []
  },
  {
   "cell_type": "code",
   "execution_count": null,
   "id": "80fef4f1",
   "metadata": {},
   "outputs": [],
   "source": []
  },
  {
   "cell_type": "code",
   "execution_count": null,
   "id": "08469f4b",
   "metadata": {},
   "outputs": [],
   "source": []
  },
  {
   "cell_type": "code",
   "execution_count": null,
   "id": "3180b072",
   "metadata": {},
   "outputs": [],
   "source": []
  },
  {
   "cell_type": "code",
   "execution_count": null,
   "id": "a4ec6af6",
   "metadata": {},
   "outputs": [],
   "source": [
    "url = f\"https://api.spotify.com/v1/me/top/artists\"\n",
    "top_tracks = getRequest(url, token)"
   ]
  },
  {
   "cell_type": "code",
   "execution_count": null,
   "id": "4c57d2b3",
   "metadata": {},
   "outputs": [],
   "source": [
    "brigid_join.to_csv(\"spotify_brigid.csv\", sep = ',')"
   ]
  },
  {
   "cell_type": "code",
   "execution_count": null,
   "id": "69500ba4",
   "metadata": {},
   "outputs": [],
   "source": [
    "brigid_join['band_name'].value_counts()"
   ]
  },
  {
   "cell_type": "code",
   "execution_count": null,
   "id": "6eeeb979",
   "metadata": {},
   "outputs": [],
   "source": [
    "string = ['country world', 'rock', 'chicago indie']\n",
    "test = [word.split(' ') for word in string]\n",
    "test\n",
    "\n",
    "for sublist in test: \n",
    "    print(sublist)"
   ]
  },
  {
   "cell_type": "code",
   "execution_count": null,
   "id": "0d09141e",
   "metadata": {},
   "outputs": [],
   "source": [
    "# Get most common overarching genres\n",
    "# 257 songs don't have assigned genres\n",
    "overaching_genres = ['country','rock','pop','electronic','edm_dance','rnb','hiphop','kpop','latin','soul','jazz',\n",
    "                    'classical']\n",
    "genres = df_join['genres']\n",
    "genres.iloc[0]\n",
    "\n",
    "test = pd.DataFrame(item for item in genres)\n",
    "# test = pd.DataFrame(genres.tolist())\n",
    "# test[12].value_counts()\n",
    "test"
   ]
  },
  {
   "cell_type": "code",
   "execution_count": null,
   "id": "79213b11",
   "metadata": {},
   "outputs": [],
   "source": [
    "top_genres = []\n",
    "for col in test.columns:\n",
    "    top_genres.append(test[col].value_counts().nlargest(20))\n",
    "\n",
    "top_genres"
   ]
  },
  {
   "cell_type": "code",
   "execution_count": null,
   "id": "a19d31d8",
   "metadata": {},
   "outputs": [],
   "source": [
    "genre = ['rock','rock','pop']\n",
    "df_test = pd.DataFrame({\n",
    "    'genre': genre\n",
    "})\n",
    "print(df_test['genre'].value_counts())"
   ]
  },
  {
   "cell_type": "code",
   "execution_count": null,
   "id": "fc93b84f",
   "metadata": {},
   "outputs": [],
   "source": [
    "# # loop through all the lists in artists_json\n",
    "# # then, loop through all of the artists within the list\n",
    "# genres = artists_json[0]['artists'][0]['genres']\n",
    "# name = artists_json[0]['artists'][0]['name']\n",
    "# uri_id = artists_json[0]['artists'][0]['id']\n",
    "# followers = artists_json[0]['artists'][0]['followers']['total']"
   ]
  },
  {
   "cell_type": "code",
   "execution_count": null,
   "id": "942bd940",
   "metadata": {},
   "outputs": [],
   "source": [
    "# len(artists_json[17]['artists'])"
   ]
  },
  {
   "cell_type": "code",
   "execution_count": null,
   "id": "2cc93d8d",
   "metadata": {},
   "outputs": [],
   "source": [
    "# i = \"5oOhM2DFWab8XhSdQiITry\"\n",
    "# url = f\"https://api.spotify.com/v1/artists/{i}\"\n",
    "# artist_json = getRequest(url,token)\n",
    "# genres = artist_json['genres']\n",
    "# artist_json"
   ]
  },
  {
   "cell_type": "code",
   "execution_count": null,
   "id": "01f56948",
   "metadata": {},
   "outputs": [],
   "source": [
    "\n",
    "def getArtistGenre(artist_id_list):\n",
    "    "
   ]
  },
  {
   "cell_type": "code",
   "execution_count": null,
   "id": "5c4ad562",
   "metadata": {},
   "outputs": [],
   "source": [
    "# For each band_uri in the dataframe, grab artists' stats like the genre, popularity, etc. "
   ]
  },
  {
   "cell_type": "code",
   "execution_count": null,
   "id": "8989f7fd",
   "metadata": {},
   "outputs": [],
   "source": [
    "# get top 10 most frequent names\n",
    "n = 10\n",
    "df['band_name'].value_counts()[:n].index.tolist()"
   ]
  },
  {
   "cell_type": "code",
   "execution_count": null,
   "id": "65982b14",
   "metadata": {},
   "outputs": [],
   "source": [
    "df['popularity'].mean()"
   ]
  },
  {
   "cell_type": "code",
   "execution_count": null,
   "id": "2e57db40",
   "metadata": {},
   "outputs": [],
   "source": [
    "# playlist_id = \"4W6yjf9ChXo9lHHVH9FERe\"\n",
    "# url = f'https://api.spotify.com/v1/playlists/{playlist_id}/tracks'\n",
    "# playlist_json = getRequest(url, token)\n",
    "# df\n",
    "# try:\n",
    "#     df = getSongInfo(playlist_json)\n",
    "# except Exception as e:\n",
    "#     logging.error(traceback.format_exc())\n",
    "#     # Logs the error appropriately. \n"
   ]
  },
  {
   "cell_type": "code",
   "execution_count": null,
   "id": "32beee88",
   "metadata": {},
   "outputs": [],
   "source": []
  },
  {
   "cell_type": "code",
   "execution_count": null,
   "id": "5533b800",
   "metadata": {},
   "outputs": [],
   "source": [
    "user_id = \"bcemcphilamy\"\n",
    "url = f\"https://api.spotify.com/v1/users/{user_id}/playlists\"\n",
    "brigids_playlists = getRequest(url,token)\n",
    "brigids_playlists"
   ]
  },
  {
   "cell_type": "code",
   "execution_count": null,
   "id": "d8ed854c",
   "metadata": {},
   "outputs": [],
   "source": [
    "# Madison Cunningham's playlists\n",
    "user_id = \"3cxtfy2f4gf5dqt194qfwgcx3\"\n",
    "url = f\"https://api.spotify.com/v1/users/{user_id}/playlists\"\n",
    "madison_cunningham = getRequest(url,token)\n",
    "print(\"Madison Cunningham has: \", len(madison_cunningham['items']), \"playlists.\")"
   ]
  },
  {
   "cell_type": "code",
   "execution_count": null,
   "id": "0331d2e7",
   "metadata": {
    "scrolled": true
   },
   "outputs": [],
   "source": [
    "# Madison Cunningham's songs in her playlist\n",
    "def getArtistPlaylistURIs(playlists_json):\n",
    "    num_playlists = len(playlists_json['items'])\n",
    "    URIs = []\n",
    "    for i in range(num_playlists):\n",
    "        URIs.append(playlists_json['items'][i]['uri'])\n",
    "    return URIs\n",
    "\n",
    "mc_list = getArtistPlaylistURIs(madison_cunningham)\n",
    "mc_list"
   ]
  },
  {
   "cell_type": "code",
   "execution_count": null,
   "id": "e3744626",
   "metadata": {},
   "outputs": [],
   "source": [
    "mc_list"
   ]
  },
  {
   "cell_type": "code",
   "execution_count": null,
   "id": "cbc94192",
   "metadata": {},
   "outputs": [],
   "source": [
    "regex = re.compile('(?:spotify:playlist:)(\\w{22})')\n",
    "new_mc_list = list(filter(regex.match, mc_list))\n",
    "new_mc_list"
   ]
  },
  {
   "cell_type": "code",
   "execution_count": null,
   "id": "bd56644b",
   "metadata": {},
   "outputs": [],
   "source": [
    "list = [\"guru99 get\", \"guru99 give\", \"guru Selenium\"]\n",
    "for element in list:\n",
    "    z = re.match(\"^\\w+\", element)\n",
    "if z:\n",
    "    print((z.groups()))"
   ]
  },
  {
   "cell_type": "code",
   "execution_count": null,
   "id": "65b3fe94",
   "metadata": {
    "scrolled": true
   },
   "outputs": [],
   "source": [
    "new_mc_list"
   ]
  },
  {
   "cell_type": "code",
   "execution_count": null,
   "id": "39bb83d1",
   "metadata": {},
   "outputs": [],
   "source": [
    "URIs = []\n",
    "p = re.compile(r'(?:spotify:playlist:)(\\w{22})')\n",
    "for item in mc_list:\n",
    "    m = p.match(item)\n",
    "    uri = m.group(1)\n",
    "    URIs.append(uri)\n",
    "URIs\n",
    "\n",
    "URIs = []\n",
    "p = re.compile(r'(?:spotify:playlist:)(\\w{22})')\n",
    "URIs = [p.match(item).group(1) for item in mc_list]\n",
    "# if m:\n",
    "#     print('Match found: ', m.group(1))\n",
    "# else:\n",
    "#     print('No match')"
   ]
  },
  {
   "cell_type": "code",
   "execution_count": null,
   "id": "dced2e2a",
   "metadata": {},
   "outputs": [],
   "source": [
    "URIs = [p.match(item).group(1) for item in mc_list]\n",
    "URIs"
   ]
  },
  {
   "cell_type": "code",
   "execution_count": null,
   "id": "d8aca85b",
   "metadata": {},
   "outputs": [],
   "source": [
    "import re\n",
    "\n",
    "regex = r\"(?:spotify:playlist:)(\\w{22})\"\n",
    "\n",
    "test_str = (\"spotify:playlist:5T4F9s5cizwJiI8EMNB3vv\\n\")\n",
    "\n",
    "matches = re.finditer(regex, test_str, re.MULTILINE)\n",
    "\n",
    "for matchNum, match in enumerate(matches, start=1):\n",
    "    \n",
    "    print (\"Match {matchNum} was found at {start}-{end}: {match}\".format(matchNum = matchNum, start = match.start(), end = match.end(), match = match.group()))\n",
    "    \n",
    "    for groupNum in range(0, len(match.groups())):\n",
    "        groupNum = groupNum + 1\n",
    "        \n",
    "        print (\"Group {groupNum} found at {start}-{end}: {group}\".format(groupNum = groupNum, start = match.start(groupNum), end = match.end(groupNum), group = match.group(groupNum)))\n"
   ]
  },
  {
   "cell_type": "code",
   "execution_count": null,
   "id": "6f94db38",
   "metadata": {},
   "outputs": [],
   "source": [
    "h = re.compile(r\"(?:spotify:playlist:)(\\w{22})\")\n",
    "h.match('spotify:playlist:5T4F9s5cizwJiI8EMNB3vv').group()"
   ]
  },
  {
   "cell_type": "code",
   "execution_count": null,
   "id": "33033101",
   "metadata": {},
   "outputs": [],
   "source": [
    "user_id = \"1237116029\"\n",
    "url = f\"https://api.spotify.com/v1/users/{user_id}/playlists\"\n",
    "laurels_playlists = getRequest(url,token)"
   ]
  },
  {
   "cell_type": "code",
   "execution_count": null,
   "id": "cc38c034",
   "metadata": {},
   "outputs": [],
   "source": [
    "user_id = \"1224941770\"\n",
    "url = f\"https://api.spotify.com/v1/users/{user_id}/playlists\"\n",
    "snail_mails_playlists = getRequest(url,token)"
   ]
  },
  {
   "cell_type": "code",
   "execution_count": null,
   "id": "7501c47d",
   "metadata": {},
   "outputs": [],
   "source": [
    "user_id = \"224sd2mespz4zevvqp4lyfxoq\"\n",
    "url = f\"https://api.spotify.com/v1/users/{user_id}/playlists\"\n",
    "phoebe_playlists = getRequest(url,token)"
   ]
  },
  {
   "cell_type": "code",
   "execution_count": null,
   "id": "72715da5",
   "metadata": {},
   "outputs": [],
   "source": [
    "playlist = phoebe_playlists['items'][0]['uri']"
   ]
  },
  {
   "cell_type": "code",
   "execution_count": null,
   "id": "20ddceaf",
   "metadata": {},
   "outputs": [],
   "source": [
    "# Example of how to use the function \n",
    "\n",
    "# Step 1. Grab the URI/id from Spotify (whether it's for a track, playlist, artist, etc.)\n",
    "spotify_URI = '1EI0B66miJj5Fl408B7E9H'\n",
    "\n",
    "# Step 2. Use an f string to create the url for the request. \n",
    "# See Spotify Console's endpoint for each of the data types you can pull from Spotify\n",
    "# Sample documentation is here: https://developer.spotify.com/console/get-artist-albums/\n",
    "\n",
    "url = f\"https://api.spotify.com/v1/artists/{spotify_URI}/albums\"\n",
    "\n",
    "courtney_marie_andrews = getRequest(url,token)\n",
    "courtney_marie_andrews"
   ]
  },
  {
   "cell_type": "code",
   "execution_count": null,
   "id": "3ea9dd4e",
   "metadata": {
    "scrolled": false
   },
   "outputs": [],
   "source": [
    "courtney_marie_andrews = albums.json()\n",
    "print(courtney_marie_andrews['items'][0]['name'])\n",
    "print(courtney_marie_andrews['items'][0]['release_date'])\n",
    "print(courtney_marie_andrews['items'][0]['total_tracks'])"
   ]
  },
  {
   "cell_type": "code",
   "execution_count": null,
   "id": "6770f379",
   "metadata": {},
   "outputs": [],
   "source": [
    "# https://api.spotify.com/v1/audio-analysis/{id}\n",
    "\n",
    "# Example - pulling data for Michael Jackson's Billie Jean song\n",
    "id = \"5ChkMS8OtdzJeqyybCc9R5\"\n",
    "url = f\"https://api.spotify.com/v1/audio-analysis/{id}\"\n",
    "billie_jean_song = getRequest(url,token)\n",
    "billie_jean_song.keys()"
   ]
  },
  {
   "cell_type": "code",
   "execution_count": null,
   "id": "9eb6c215",
   "metadata": {},
   "outputs": [],
   "source": [
    "billie_jean_song"
   ]
  },
  {
   "cell_type": "code",
   "execution_count": null,
   "id": "7f3cb1b4",
   "metadata": {},
   "outputs": [],
   "source": [
    "# The curl is used to query things in git bash/terminal/command line\n",
    "# curl -X \"GET\" \"https://api.spotify.com/v1/artists//albums\"\n",
    "# -H \"Accept: application/json\" \n",
    "# -H \"Content-Type: application/json\" \n",
    "# -H \"Authorization: Bearer \""
   ]
  }
 ],
 "metadata": {
  "kernelspec": {
   "display_name": "PythonData",
   "language": "python",
   "name": "pythondata"
  },
  "language_info": {
   "codemirror_mode": {
    "name": "ipython",
    "version": 3
   },
   "file_extension": ".py",
   "mimetype": "text/x-python",
   "name": "python",
   "nbconvert_exporter": "python",
   "pygments_lexer": "ipython3",
   "version": "3.7.10"
  }
 },
 "nbformat": 4,
 "nbformat_minor": 5
}
