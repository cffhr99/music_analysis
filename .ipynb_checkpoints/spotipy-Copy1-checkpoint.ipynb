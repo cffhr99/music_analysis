{
 "cells": [
  {
   "cell_type": "code",
   "execution_count": 8,
   "id": "eaebe488",
   "metadata": {},
   "outputs": [],
   "source": [
    "import spotipy\n",
    "from spotipy.oauth2 import SpotifyClientCredentials\n",
    "import pandas as pd\n",
    "import time \n",
    "from config import client_id, client_secret\n",
    "import re"
   ]
  },
  {
   "cell_type": "code",
   "execution_count": 2,
   "id": "499e2d02",
   "metadata": {},
   "outputs": [],
   "source": [
    "client_credentials_manager = SpotifyClientCredentials(client_id, client_secret)\n",
    "sp = spotipy.Spotify(client_credentials_manager=client_credentials_manager)"
   ]
  },
  {
   "cell_type": "code",
   "execution_count": 3,
   "id": "8cb2fc98",
   "metadata": {},
   "outputs": [],
   "source": [
    "def getTrackIDs(user, playlist_id):\n",
    "    ids = []\n",
    "    playlist = sp.user_playlist(user, playlist_id)\n",
    "    for item in playlist['tracks']['items']:\n",
    "        track = item['track']\n",
    "        ids.append(track['id'])\n",
    "    return ids"
   ]
  },
  {
   "cell_type": "code",
   "execution_count": 5,
   "id": "c73003cf",
   "metadata": {},
   "outputs": [],
   "source": [
    "def getURI(uri_list):\n",
    "#     p = re.compile(r'(?:spotify:playlist:)(\\w{22})')\n",
    "    p = re.compile(r'(?:spotify:(?:album|playlist|artist|track):)(\\w{22})')\n",
    "    URIs = [p.match(item).group(1) for item in uri_list]\n",
    "    return URIs"
   ]
  },
  {
   "cell_type": "code",
   "execution_count": 22,
   "id": "f4fbb5a8",
   "metadata": {},
   "outputs": [
    {
     "data": {
      "text/plain": [
       "9"
      ]
     },
     "execution_count": 22,
     "metadata": {},
     "output_type": "execute_result"
    }
   ],
   "source": [
    "demo_list = [\"spotify:playlist:37i9dQZF1DX76Wlfdnj7AP\", \"spotify:playlist:37i9dQZF1DX70RN3TfWWJh\",\"spotify:playlist:37i9dQZF1DX35oM5SPECmN\",\n",
    "            \"spotify:playlist:37i9dQZF1DX9BXb6GsGCLl\",\"spotify:playlist:37i9dQZF1DWXx3Txis2L4x\",\"spotify:playlist:37i9dQZF1DWV3VLITCZusq\",\n",
    "            \"spotify:playlist:37i9dQZF1DX9oh43oAzkyx\",\"spotify:playlist:37i9dQZF1DWTl4y3vgJOXW\",\"spotify:playlist:37i9dQZF1DWUVpAXiEPK8P\"]\n",
    "len(demo_list)"
   ]
  },
  {
   "cell_type": "code",
   "execution_count": 57,
   "id": "4686292c",
   "metadata": {},
   "outputs": [],
   "source": [
    "def getPlaylistTracks(playlist_URI_list):\n",
    "    # Tracks variable will hold the JSON dictionaries,\n",
    "    # one dictionary for every playlist \n",
    "    \n",
    "    clean_URIs = getURI(playlist_URI_list)\n",
    "    json_dicts = [sp.playlist_items(uri) for uri in clean_URIs]\n",
    "    \n",
    "    tracks = []\n",
    "    for i in range(len(json_dicts)):\n",
    "        json = json_dicts[i]['items']\n",
    "        for j in range(len(json)):\n",
    "            tracks.append(json[j]['track']['id'])\n",
    "    \n",
    "    return tracks\n"
   ]
  },
  {
   "cell_type": "code",
   "execution_count": 60,
   "id": "10dbe4d6",
   "metadata": {},
   "outputs": [
    {
     "data": {
      "text/plain": [
       "671"
      ]
     },
     "execution_count": 60,
     "metadata": {},
     "output_type": "execute_result"
    }
   ],
   "source": [
    "track_ids = getPlaylistTracks(demo_list)\n",
    "len(track_ids)"
   ]
  },
  {
   "cell_type": "code",
   "execution_count": 61,
   "id": "1ca98cfe",
   "metadata": {},
   "outputs": [],
   "source": [
    "def getTrackFeatures(id):\n",
    "  meta = sp.track(id)\n",
    "  features = sp.audio_features(id)\n",
    "\n",
    "  # meta\n",
    "  name = meta['name']\n",
    "  album = meta['album']['name']\n",
    "  artist = meta['album']['artists'][0]['name']\n",
    "  release_date = meta['album']['release_date']\n",
    "  length = meta['duration_ms']\n",
    "  popularity = meta['popularity']\n",
    "\n",
    "  # features\n",
    "  acousticness = features[0]['acousticness']\n",
    "  danceability = features[0]['danceability']\n",
    "  energy = features[0]['energy']\n",
    "  instrumentalness = features[0]['instrumentalness']\n",
    "  liveness = features[0]['liveness']\n",
    "  loudness = features[0]['loudness']\n",
    "  speechiness = features[0]['speechiness']\n",
    "  tempo = features[0]['tempo']\n",
    "  time_signature = features[0]['time_signature']\n",
    "\n",
    "  track = [name, album, artist, release_date, length, popularity, danceability, acousticness, danceability, energy, instrumentalness, liveness, loudness, speechiness, tempo, time_signature]\n",
    "  return track"
   ]
  },
  {
   "cell_type": "code",
   "execution_count": null,
   "id": "bc721660",
   "metadata": {},
   "outputs": [],
   "source": [
    "# loop over track ids \n",
    "tracks = []\n",
    "\n",
    "for i in range(len(track_ids)):\n",
    "  time.sleep(.5)\n",
    "  track = getTrackFeatures(track_ids[i])\n",
    "  tracks.append(track)\n",
    "\n",
    "# create dataset\n",
    "df = pd.DataFrame(tracks, columns = ['name', 'album', 'artist', 'release_date', 'length', 'popularity', 'danceability', 'acousticness', 'danceability', 'energy', 'instrumentalness', 'liveness', 'loudness', 'speechiness', 'tempo', 'time_signature'])\n",
    "df.to_csv(\"workout.csv\", sep = ',')"
   ]
  },
  {
   "cell_type": "code",
   "execution_count": null,
   "id": "bb873e18",
   "metadata": {},
   "outputs": [],
   "source": [
    "df.head()"
   ]
  },
  {
   "cell_type": "code",
   "execution_count": null,
   "id": "e40f3b42",
   "metadata": {},
   "outputs": [],
   "source": []
  },
  {
   "cell_type": "code",
   "execution_count": null,
   "id": "8d3c1551",
   "metadata": {},
   "outputs": [],
   "source": [
    "# to get the playlist_id, simply click on the three dots next to the playlist name\n",
    "## three dots --> Share Playlist --> Hold down 'option key' if on Mac or \"Alt on PC\" --> click \"Copy Spotify URI\"\n",
    "## spotify:playlist:119aA5gUSFhQuWujDrHqnh << you'll get this, then just copy the 119...HqnH code. \n",
    "\n",
    "\n",
    "ids = getTrackIDs('Gabby C', '119aA5gUSFhQuWujDrHqnh')\n",
    "print(len(ids))"
   ]
  },
  {
   "cell_type": "markdown",
   "id": "4a830320",
   "metadata": {},
   "source": [
    "## sp.artists(list_of_artists_URIs) -- querying info about artists: images, follower count, genre, popularity"
   ]
  },
  {
   "cell_type": "code",
   "execution_count": null,
   "id": "49f4db96",
   "metadata": {},
   "outputs": [],
   "source": [
    "# sp.artists(list_of_arts)\n",
    "# this method queries data about a musician. In this example, my list only has one artists, Kehlani. \n",
    "# Below I've printed information about her. \n",
    "artist_list = [\"0cGUm45nv7Z6M6qdXYQGTX\"]\n",
    "artists_json = sp.artists(artist_list)\n",
    "artists_json"
   ]
  },
  {
   "cell_type": "markdown",
   "id": "33cf41ce",
   "metadata": {},
   "source": [
    "## sp.user_playlist(\"username\", \"playlist_URI\") -- querying info about playlists"
   ]
  },
  {
   "cell_type": "code",
   "execution_count": null,
   "id": "fafa46db",
   "metadata": {},
   "outputs": [],
   "source": [
    "# You can query your friends' playlists, in this example, I'm querying my friend Brigid's music from her \"Summer\" playlist\n",
    "brigid_json = sp.user_playlist('bea', '70qaH2nlP3E5WHrnMNPzZ2')"
   ]
  },
  {
   "cell_type": "markdown",
   "id": "7edf4ffa",
   "metadata": {},
   "source": [
    "## artist_related_artists(artist_id) -- getting related artists"
   ]
  },
  {
   "cell_type": "code",
   "execution_count": null,
   "id": "7751b16e",
   "metadata": {},
   "outputs": [],
   "source": [
    "# In this method, I am finding artists related to Stevie Wonder.\n",
    "related_artists = sp.artist_related_artists(\"7guDJrEfX3qb6FEbdPA5qi\")\n",
    "related_artists"
   ]
  },
  {
   "cell_type": "code",
   "execution_count": null,
   "id": "fdfc6e67",
   "metadata": {},
   "outputs": [],
   "source": [
    "# There are twenty related artist recommendations \n",
    "len(related_artists['artists'])"
   ]
  },
  {
   "cell_type": "code",
   "execution_count": null,
   "id": "3f63c238",
   "metadata": {},
   "outputs": [],
   "source": [
    "# Info for first dictionary in list\n",
    "related_artists['artists'][0]"
   ]
  },
  {
   "cell_type": "code",
   "execution_count": null,
   "id": "add31ae9",
   "metadata": {
    "scrolled": true
   },
   "outputs": [],
   "source": [
    "names = [[i['name'], i['popularity'], i['uri']] for i in related_artists['artists']]\n",
    "names"
   ]
  },
  {
   "cell_type": "markdown",
   "id": "ef1c98aa",
   "metadata": {},
   "source": [
    "## sp.categories() - get categories within Spotify"
   ]
  },
  {
   "cell_type": "code",
   "execution_count": null,
   "id": "f1aad704",
   "metadata": {},
   "outputs": [],
   "source": [
    "## Prints list of all categories within Spotify\n",
    "cats = sp.categories(limit=50)\n",
    "len(cats['categories']['items'])"
   ]
  },
  {
   "cell_type": "code",
   "execution_count": null,
   "id": "f819edb5",
   "metadata": {},
   "outputs": [],
   "source": [
    "# Sample output\n",
    "cats['categories']['items'][5]['id']"
   ]
  },
  {
   "cell_type": "code",
   "execution_count": null,
   "id": "3fbb3055",
   "metadata": {},
   "outputs": [],
   "source": [
    "def getCategories():\n",
    "    categories = []\n",
    "    for i in range(len(cats['categories']['items'])):\n",
    "        id_name = cats['categories']['items'][i]['id']\n",
    "        categories.append(id_name)\n",
    "    return categories\n",
    "        \n",
    "getCategories()"
   ]
  },
  {
   "cell_type": "markdown",
   "id": "b3c165cb",
   "metadata": {},
   "source": [
    "## sp.user_playlists(user, limit=50, offset=0) --  Grab users' playlists"
   ]
  },
  {
   "cell_type": "code",
   "execution_count": null,
   "id": "992fe6bd",
   "metadata": {},
   "outputs": [],
   "source": [
    "## In this code taken from Spotipy's example, we can grab all the playlists that Spotify has available (1,390)\n",
    "\n",
    "playlists = sp.user_playlists('spotify')\n",
    "while playlists:\n",
    "    for i, playlist in enumerate(playlists['items']):\n",
    "        print(\"%4d %s %s\" % (i + 1 + playlists['offset'], playlist['uri'],  playlist['name']))\n",
    "    if playlists['next']:\n",
    "        playlists = sp.next(playlists)\n",
    "    else:\n",
    "        playlists = None"
   ]
  },
  {
   "cell_type": "code",
   "execution_count": null,
   "id": "c78a5560",
   "metadata": {},
   "outputs": [],
   "source": [
    "# gabbys_playlists = sp.current_user_playlists('Gabby C')"
   ]
  },
  {
   "cell_type": "code",
   "execution_count": null,
   "id": "aa5739f5",
   "metadata": {
    "scrolled": true
   },
   "outputs": [],
   "source": [
    "# import spotipy\n",
    "# import spotipy.util as util\n",
    "# # from config import CLIENT_ID, CLIENT_SECRET, PLAY_LIST, USER\n",
    "# import random\n",
    "\n",
    "# token = util.oauth2.SpotifyClientCredentials(client_id=client_id, client_secret=client_secret)\n",
    "\n",
    "# cache_token = token.get_access_token()\n",
    "# spotify = spotipy.Spotify(cache_token)\n",
    "\n",
    "# results1 = spotify.user_playlist_tracks(\"Gabby C\", \"119aA5gUSFhQuWujDrHqnh\", limit=100, offset=0)"
   ]
  },
  {
   "cell_type": "code",
   "execution_count": null,
   "id": "e852c886",
   "metadata": {},
   "outputs": [],
   "source": []
  }
 ],
 "metadata": {
  "kernelspec": {
   "display_name": "Python 3",
   "language": "python",
   "name": "python3"
  },
  "language_info": {
   "codemirror_mode": {
    "name": "ipython",
    "version": 3
   },
   "file_extension": ".py",
   "mimetype": "text/x-python",
   "name": "python",
   "nbconvert_exporter": "python",
   "pygments_lexer": "ipython3",
   "version": "3.7.10"
  }
 },
 "nbformat": 4,
 "nbformat_minor": 5
}
