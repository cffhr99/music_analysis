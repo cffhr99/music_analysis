{
 "cells": [
  {
   "cell_type": "code",
   "execution_count": 1,
   "id": "1943d94d",
   "metadata": {},
   "outputs": [],
   "source": [
    "client_id = '14f98dc793924a94bfad307046ed6b7c'"
   ]
  },
  {
   "cell_type": "code",
   "execution_count": 2,
   "id": "9592a680",
   "metadata": {},
   "outputs": [],
   "source": [
    "client_secret = '7309c91e409b4048865f66f1a62e2b1e'"
   ]
  },
  {
   "cell_type": "code",
   "execution_count": null,
   "id": "2d538b4c",
   "metadata": {},
   "outputs": [],
   "source": []
  }
 ],
 "metadata": {
  "kernelspec": {
   "display_name": "Python 3",
   "language": "python",
   "name": "python3"
  },
  "language_info": {
   "codemirror_mode": {
    "name": "ipython",
    "version": 3
   },
   "file_extension": ".py",
   "mimetype": "text/x-python",
   "name": "python",
   "nbconvert_exporter": "python",
   "pygments_lexer": "ipython3",
   "version": "3.7.10"
  }
 },
 "nbformat": 4,
 "nbformat_minor": 5
}
