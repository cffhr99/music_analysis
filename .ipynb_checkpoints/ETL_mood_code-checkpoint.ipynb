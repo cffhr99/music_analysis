{
 "cells": [
  {
   "cell_type": "code",
   "execution_count": 8,
   "id": "eaebe488",
   "metadata": {},
   "outputs": [],
   "source": [
    "import spotipy\n",
    "from spotipy.oauth2 import SpotifyClientCredentials\n",
    "import pandas as pd\n",
    "import time \n",
    "from config import client_id, client_secret\n",
    "import re"
   ]
  },
  {
   "cell_type": "code",
   "execution_count": 2,
   "id": "499e2d02",
   "metadata": {},
   "outputs": [],
   "source": [
    "client_credentials_manager = SpotifyClientCredentials(client_id, client_secret)\n",
    "sp = spotipy.Spotify(client_credentials_manager=client_credentials_manager)"
   ]
  },
  {
   "cell_type": "code",
   "execution_count": 3,
   "id": "8cb2fc98",
   "metadata": {},
   "outputs": [],
   "source": [
    "def getTrackIDs(user, playlist_id):\n",
    "    ids = []\n",
    "    playlist = sp.user_playlist(user, playlist_id)\n",
    "    for item in playlist['tracks']['items']:\n",
    "        track = item['track']\n",
    "        ids.append(track['id'])\n",
    "    return ids"
   ]
  },
  {
   "cell_type": "code",
   "execution_count": 5,
   "id": "92b91ee5",
   "metadata": {},
   "outputs": [],
   "source": [
    "def getURI(uri_list):\n",
    "#     p = re.compile(r'(?:spotify:playlist:)(\\w{22})')\n",
    "    p = re.compile(r'(?:spotify:(?:album|playlist|artist|track):)(\\w{22})')\n",
    "    URIs = [p.match(item).group(1) for item in uri_list]\n",
    "    return URIs"
   ]
  },
  {
   "cell_type": "code",
   "execution_count": 22,
   "id": "363db16d",
   "metadata": {},
   "outputs": [
    {
     "data": {
      "text/plain": [
       "9"
      ]
     },
     "execution_count": 22,
     "metadata": {},
     "output_type": "execute_result"
    }
   ],
   "source": [
    "demo_list = [\"spotify:playlist:37i9dQZF1DX76Wlfdnj7AP\", \"spotify:playlist:37i9dQZF1DX70RN3TfWWJh\",\"spotify:playlist:37i9dQZF1DX35oM5SPECmN\",\n",
    "            \"spotify:playlist:37i9dQZF1DX9BXb6GsGCLl\",\"spotify:playlist:37i9dQZF1DWXx3Txis2L4x\",\"spotify:playlist:37i9dQZF1DWV3VLITCZusq\",\n",
    "            \"spotify:playlist:37i9dQZF1DX9oh43oAzkyx\",\"spotify:playlist:37i9dQZF1DWTl4y3vgJOXW\",\"spotify:playlist:37i9dQZF1DWUVpAXiEPK8P\"]\n",
    "len(demo_list)"
   ]
  },
  {
   "cell_type": "code",
   "execution_count": 57,
   "id": "f317391c",
   "metadata": {},
   "outputs": [],
   "source": [
    "def getPlaylistTracks(playlist_URI_list):\n",
    "    # Tracks variable will hold the JSON dictionaries,\n",
    "    # one dictionary for every playlist \n",
    "    \n",
    "    clean_URIs = getURI(playlist_URI_list)\n",
    "    json_dicts = [sp.playlist_items(uri) for uri in clean_URIs]\n",
    "    \n",
    "    tracks = []\n",
    "    for i in range(len(json_dicts)):\n",
    "        json = json_dicts[i]['items']\n",
    "        for j in range(len(json)):\n",
    "            tracks.append(json[j]['track']['id'])\n",
    "    \n",
    "    return tracks\n"
   ]
  },
  {
   "cell_type": "code",
   "execution_count": 60,
   "id": "18094561",
   "metadata": {},
   "outputs": [
    {
     "data": {
      "text/plain": [
       "671"
      ]
     },
     "execution_count": 60,
     "metadata": {},
     "output_type": "execute_result"
    }
   ],
   "source": [
    "track_ids = getPlaylistTracks(demo_list)\n",
    "len(track_ids)"
   ]
  },
  {
   "cell_type": "code",
   "execution_count": 61,
   "id": "1ca98cfe",
   "metadata": {},
   "outputs": [],
   "source": [
    "def getTrackFeatures(id):\n",
    "  meta = sp.track(id)\n",
    "  features = sp.audio_features(id)\n",
    "\n",
    "  # meta\n",
    "  name = meta['name']\n",
    "  album = meta['album']['name']\n",
    "  artist = meta['album']['artists'][0]['name']\n",
    "  release_date = meta['album']['release_date']\n",
    "  length = meta['duration_ms']\n",
    "  popularity = meta['popularity']\n",
    "\n",
    "  # features\n",
    "  acousticness = features[0]['acousticness']\n",
    "  danceability = features[0]['danceability']\n",
    "  energy = features[0]['energy']\n",
    "  instrumentalness = features[0]['instrumentalness']\n",
    "  liveness = features[0]['liveness']\n",
    "  loudness = features[0]['loudness']\n",
    "  speechiness = features[0]['speechiness']\n",
    "  tempo = features[0]['tempo']\n",
    "  time_signature = features[0]['time_signature']\n",
    "\n",
    "  track = [name, album, artist, release_date, length, popularity, danceability, acousticness, danceability, energy, instrumentalness, liveness, loudness, speechiness, tempo, time_signature]\n",
    "  return track"
   ]
  },
  {
   "cell_type": "code",
   "execution_count": 63,
   "id": "bc721660",
   "metadata": {},
   "outputs": [],
   "source": [
    "# loop over track ids \n",
    "tracks = []\n",
    "\n",
    "for i in range(len(track_ids)):\n",
    "  time.sleep(.5)\n",
    "  track = getTrackFeatures(track_ids[i])\n",
    "  tracks.append(track)\n",
    "\n",
    "# create dataset\n",
    "df = pd.DataFrame(tracks, columns = ['name', 'album', 'artist', 'release_date', 'length', 'popularity', 'danceability', 'acousticness', 'danceability', 'energy', 'instrumentalness', 'liveness', 'loudness', 'speechiness', 'tempo', 'time_signature'])\n",
    "df.to_csv(\"workout.csv\", sep = ',')"
   ]
  },
  {
   "cell_type": "code",
   "execution_count": 64,
   "id": "bb873e18",
   "metadata": {},
   "outputs": [
    {
     "data": {
      "text/html": [
       "<div>\n",
       "<style scoped>\n",
       "    .dataframe tbody tr th:only-of-type {\n",
       "        vertical-align: middle;\n",
       "    }\n",
       "\n",
       "    .dataframe tbody tr th {\n",
       "        vertical-align: top;\n",
       "    }\n",
       "\n",
       "    .dataframe thead th {\n",
       "        text-align: right;\n",
       "    }\n",
       "</style>\n",
       "<table border=\"1\" class=\"dataframe\">\n",
       "  <thead>\n",
       "    <tr style=\"text-align: right;\">\n",
       "      <th></th>\n",
       "      <th>name</th>\n",
       "      <th>album</th>\n",
       "      <th>artist</th>\n",
       "      <th>release_date</th>\n",
       "      <th>length</th>\n",
       "      <th>popularity</th>\n",
       "      <th>danceability</th>\n",
       "      <th>acousticness</th>\n",
       "      <th>danceability</th>\n",
       "      <th>energy</th>\n",
       "      <th>instrumentalness</th>\n",
       "      <th>liveness</th>\n",
       "      <th>loudness</th>\n",
       "      <th>speechiness</th>\n",
       "      <th>tempo</th>\n",
       "      <th>time_signature</th>\n",
       "    </tr>\n",
       "  </thead>\n",
       "  <tbody>\n",
       "    <tr>\n",
       "      <th>0</th>\n",
       "      <td>Goosebumps - Remix</td>\n",
       "      <td>Goosebumps (Remix)</td>\n",
       "      <td>Travis Scott</td>\n",
       "      <td>2021-01-15</td>\n",
       "      <td>162802</td>\n",
       "      <td>85</td>\n",
       "      <td>0.841</td>\n",
       "      <td>0.41800</td>\n",
       "      <td>0.841</td>\n",
       "      <td>0.593</td>\n",
       "      <td>0.000000</td>\n",
       "      <td>0.1240</td>\n",
       "      <td>-7.846</td>\n",
       "      <td>0.0379</td>\n",
       "      <td>124.917</td>\n",
       "      <td>4</td>\n",
       "    </tr>\n",
       "    <tr>\n",
       "      <th>1</th>\n",
       "      <td>Paradise (feat. Dermot Kennedy)</td>\n",
       "      <td>Paradise</td>\n",
       "      <td>MEDUZA</td>\n",
       "      <td>2020-10-30</td>\n",
       "      <td>167903</td>\n",
       "      <td>83</td>\n",
       "      <td>0.632</td>\n",
       "      <td>0.06890</td>\n",
       "      <td>0.632</td>\n",
       "      <td>0.595</td>\n",
       "      <td>0.000000</td>\n",
       "      <td>0.2090</td>\n",
       "      <td>-7.644</td>\n",
       "      <td>0.0401</td>\n",
       "      <td>124.114</td>\n",
       "      <td>4</td>\n",
       "    </tr>\n",
       "    <tr>\n",
       "      <th>2</th>\n",
       "      <td>INDUSTRY BABY (feat. Jack Harlow)</td>\n",
       "      <td>INDUSTRY BABY (feat. Jack Harlow)</td>\n",
       "      <td>Lil Nas X</td>\n",
       "      <td>2021-07-23</td>\n",
       "      <td>212000</td>\n",
       "      <td>97</td>\n",
       "      <td>0.736</td>\n",
       "      <td>0.02030</td>\n",
       "      <td>0.736</td>\n",
       "      <td>0.704</td>\n",
       "      <td>0.000000</td>\n",
       "      <td>0.0501</td>\n",
       "      <td>-7.409</td>\n",
       "      <td>0.0615</td>\n",
       "      <td>149.995</td>\n",
       "      <td>4</td>\n",
       "    </tr>\n",
       "    <tr>\n",
       "      <th>3</th>\n",
       "      <td>Motley Crew</td>\n",
       "      <td>Motley Crew</td>\n",
       "      <td>Post Malone</td>\n",
       "      <td>2021-07-09</td>\n",
       "      <td>184213</td>\n",
       "      <td>84</td>\n",
       "      <td>0.797</td>\n",
       "      <td>0.09040</td>\n",
       "      <td>0.797</td>\n",
       "      <td>0.631</td>\n",
       "      <td>0.000004</td>\n",
       "      <td>0.0998</td>\n",
       "      <td>-3.818</td>\n",
       "      <td>0.0786</td>\n",
       "      <td>129.915</td>\n",
       "      <td>4</td>\n",
       "    </tr>\n",
       "    <tr>\n",
       "      <th>4</th>\n",
       "      <td>Levitating (feat. DaBaby)</td>\n",
       "      <td>Levitating (feat. DaBaby)</td>\n",
       "      <td>Dua Lipa</td>\n",
       "      <td>2020-10-01</td>\n",
       "      <td>203064</td>\n",
       "      <td>86</td>\n",
       "      <td>0.702</td>\n",
       "      <td>0.00883</td>\n",
       "      <td>0.702</td>\n",
       "      <td>0.825</td>\n",
       "      <td>0.000000</td>\n",
       "      <td>0.0674</td>\n",
       "      <td>-3.787</td>\n",
       "      <td>0.0601</td>\n",
       "      <td>102.977</td>\n",
       "      <td>4</td>\n",
       "    </tr>\n",
       "  </tbody>\n",
       "</table>\n",
       "</div>"
      ],
      "text/plain": [
       "                                name                              album  \\\n",
       "0                 Goosebumps - Remix                 Goosebumps (Remix)   \n",
       "1    Paradise (feat. Dermot Kennedy)                           Paradise   \n",
       "2  INDUSTRY BABY (feat. Jack Harlow)  INDUSTRY BABY (feat. Jack Harlow)   \n",
       "3                        Motley Crew                        Motley Crew   \n",
       "4          Levitating (feat. DaBaby)          Levitating (feat. DaBaby)   \n",
       "\n",
       "         artist release_date  length  popularity  danceability  acousticness  \\\n",
       "0  Travis Scott   2021-01-15  162802          85         0.841       0.41800   \n",
       "1        MEDUZA   2020-10-30  167903          83         0.632       0.06890   \n",
       "2     Lil Nas X   2021-07-23  212000          97         0.736       0.02030   \n",
       "3   Post Malone   2021-07-09  184213          84         0.797       0.09040   \n",
       "4      Dua Lipa   2020-10-01  203064          86         0.702       0.00883   \n",
       "\n",
       "   danceability  energy  instrumentalness  liveness  loudness  speechiness  \\\n",
       "0         0.841   0.593          0.000000    0.1240    -7.846       0.0379   \n",
       "1         0.632   0.595          0.000000    0.2090    -7.644       0.0401   \n",
       "2         0.736   0.704          0.000000    0.0501    -7.409       0.0615   \n",
       "3         0.797   0.631          0.000004    0.0998    -3.818       0.0786   \n",
       "4         0.702   0.825          0.000000    0.0674    -3.787       0.0601   \n",
       "\n",
       "     tempo  time_signature  \n",
       "0  124.917               4  \n",
       "1  124.114               4  \n",
       "2  149.995               4  \n",
       "3  129.915               4  \n",
       "4  102.977               4  "
      ]
     },
     "execution_count": 64,
     "metadata": {},
     "output_type": "execute_result"
    }
   ],
   "source": [
    "df.head()"
   ]
  },
  {
   "cell_type": "code",
   "execution_count": null,
   "id": "e40f3b42",
   "metadata": {},
   "outputs": [],
   "source": []
  },
  {
   "cell_type": "code",
   "execution_count": null,
   "id": "e852c886",
   "metadata": {},
   "outputs": [],
   "source": []
  }
 ],
 "metadata": {
  "kernelspec": {
   "display_name": "Python 3",
   "language": "python",
   "name": "python3"
  },
  "language_info": {
   "codemirror_mode": {
    "name": "ipython",
    "version": 3
   },
   "file_extension": ".py",
   "mimetype": "text/x-python",
   "name": "python",
   "nbconvert_exporter": "python",
   "pygments_lexer": "ipython3",
   "version": "3.7.10"
  }
 },
 "nbformat": 4,
 "nbformat_minor": 5
}
