{
 "cells": [
  {
   "cell_type": "markdown",
   "metadata": {},
   "source": [
    "## Input Dataset"
   ]
  },
  {
   "cell_type": "code",
   "execution_count": 1,
   "metadata": {},
   "outputs": [],
   "source": [
    "import pandas as pd\n",
    "from sklearn.model_selection import train_test_split"
   ]
  },
  {
   "cell_type": "code",
   "execution_count": 2,
   "metadata": {},
   "outputs": [],
   "source": [
    "sad_df = pd.read_csv('../InputData/sad.csv')\n",
    "happy_df = pd.read_csv('../InputData/happy.csv')\n",
    "workout_df = pd.read_csv('../InputData/workout.csv')"
   ]
  },
  {
   "cell_type": "markdown",
   "metadata": {},
   "source": [
    "### 0 = workout, 1 = sad, 2 = happy."
   ]
  },
  {
   "cell_type": "code",
   "execution_count": 3,
   "metadata": {},
   "outputs": [],
   "source": [
    "mood_sad = ['Sad']*sad_df.shape[0]\n",
    "mood_happy = ['Happy']*happy_df.shape[0]\n",
    "mood_workout = ['workout']*workout_df.shape[0]\n",
    "sad_df['Moods'] = mood_sad\n",
    "happy_df['Moods'] = mood_happy\n",
    "workout_df['Moods'] =mood_workout"
   ]
  },
  {
   "cell_type": "code",
   "execution_count": 4,
   "metadata": {},
   "outputs": [
    {
     "name": "stdout",
     "output_type": "stream",
     "text": [
      "(5331, 19)\n"
     ]
    },
    {
     "data": {
      "text/html": [
       "<div>\n",
       "<style scoped>\n",
       "    .dataframe tbody tr th:only-of-type {\n",
       "        vertical-align: middle;\n",
       "    }\n",
       "\n",
       "    .dataframe tbody tr th {\n",
       "        vertical-align: top;\n",
       "    }\n",
       "\n",
       "    .dataframe thead th {\n",
       "        text-align: right;\n",
       "    }\n",
       "</style>\n",
       "<table border=\"1\" class=\"dataframe\">\n",
       "  <thead>\n",
       "    <tr style=\"text-align: right;\">\n",
       "      <th></th>\n",
       "      <th>Unnamed: 0</th>\n",
       "      <th>name</th>\n",
       "      <th>album</th>\n",
       "      <th>artist</th>\n",
       "      <th>release_date</th>\n",
       "      <th>length</th>\n",
       "      <th>popularity</th>\n",
       "      <th>danceability</th>\n",
       "      <th>acousticness</th>\n",
       "      <th>danceability.1</th>\n",
       "      <th>energy</th>\n",
       "      <th>instrumentalness</th>\n",
       "      <th>liveness</th>\n",
       "      <th>loudness</th>\n",
       "      <th>speechiness</th>\n",
       "      <th>tempo</th>\n",
       "      <th>time_signature</th>\n",
       "      <th>mood</th>\n",
       "      <th>Moods</th>\n",
       "    </tr>\n",
       "  </thead>\n",
       "  <tbody>\n",
       "    <tr>\n",
       "      <th>0</th>\n",
       "      <td>0</td>\n",
       "      <td>everything i wanted</td>\n",
       "      <td>everything i wanted</td>\n",
       "      <td>Billie Eilish</td>\n",
       "      <td>2019-11-13</td>\n",
       "      <td>245425</td>\n",
       "      <td>82</td>\n",
       "      <td>0.704</td>\n",
       "      <td>0.9020</td>\n",
       "      <td>0.704</td>\n",
       "      <td>0.225</td>\n",
       "      <td>0.657000</td>\n",
       "      <td>0.106</td>\n",
       "      <td>-14.454</td>\n",
       "      <td>0.0994</td>\n",
       "      <td>120.006</td>\n",
       "      <td>4</td>\n",
       "      <td>1</td>\n",
       "      <td>Sad</td>\n",
       "    </tr>\n",
       "    <tr>\n",
       "      <th>1</th>\n",
       "      <td>1</td>\n",
       "      <td>ghostin</td>\n",
       "      <td>thank u, next</td>\n",
       "      <td>Ariana Grande</td>\n",
       "      <td>2019-02-08</td>\n",
       "      <td>271466</td>\n",
       "      <td>69</td>\n",
       "      <td>0.287</td>\n",
       "      <td>0.4180</td>\n",
       "      <td>0.287</td>\n",
       "      <td>0.364</td>\n",
       "      <td>0.000018</td>\n",
       "      <td>0.185</td>\n",
       "      <td>-8.295</td>\n",
       "      <td>0.0306</td>\n",
       "      <td>103.777</td>\n",
       "      <td>4</td>\n",
       "      <td>1</td>\n",
       "      <td>Sad</td>\n",
       "    </tr>\n",
       "    <tr>\n",
       "      <th>2</th>\n",
       "      <td>2</td>\n",
       "      <td>Too Good At Goodbyes</td>\n",
       "      <td>The Thrill Of It All (Special Edition)</td>\n",
       "      <td>Sam Smith</td>\n",
       "      <td>2017-11-03</td>\n",
       "      <td>201000</td>\n",
       "      <td>74</td>\n",
       "      <td>0.681</td>\n",
       "      <td>0.6400</td>\n",
       "      <td>0.681</td>\n",
       "      <td>0.372</td>\n",
       "      <td>0.000000</td>\n",
       "      <td>0.169</td>\n",
       "      <td>-8.237</td>\n",
       "      <td>0.0432</td>\n",
       "      <td>91.873</td>\n",
       "      <td>4</td>\n",
       "      <td>1</td>\n",
       "      <td>Sad</td>\n",
       "    </tr>\n",
       "    <tr>\n",
       "      <th>3</th>\n",
       "      <td>3</td>\n",
       "      <td>i love you</td>\n",
       "      <td>WHEN WE ALL FALL ASLEEP, WHERE DO WE GO?</td>\n",
       "      <td>Billie Eilish</td>\n",
       "      <td>2019-03-29</td>\n",
       "      <td>291796</td>\n",
       "      <td>80</td>\n",
       "      <td>0.421</td>\n",
       "      <td>0.9520</td>\n",
       "      <td>0.421</td>\n",
       "      <td>0.131</td>\n",
       "      <td>0.004530</td>\n",
       "      <td>0.109</td>\n",
       "      <td>-18.435</td>\n",
       "      <td>0.0382</td>\n",
       "      <td>137.446</td>\n",
       "      <td>4</td>\n",
       "      <td>1</td>\n",
       "      <td>Sad</td>\n",
       "    </tr>\n",
       "    <tr>\n",
       "      <th>4</th>\n",
       "      <td>4</td>\n",
       "      <td>I Fall Apart</td>\n",
       "      <td>Stoney (Deluxe)</td>\n",
       "      <td>Post Malone</td>\n",
       "      <td>2016-12-09</td>\n",
       "      <td>223346</td>\n",
       "      <td>80</td>\n",
       "      <td>0.556</td>\n",
       "      <td>0.0689</td>\n",
       "      <td>0.556</td>\n",
       "      <td>0.538</td>\n",
       "      <td>0.000000</td>\n",
       "      <td>0.196</td>\n",
       "      <td>-5.408</td>\n",
       "      <td>0.0382</td>\n",
       "      <td>143.950</td>\n",
       "      <td>4</td>\n",
       "      <td>1</td>\n",
       "      <td>Sad</td>\n",
       "    </tr>\n",
       "  </tbody>\n",
       "</table>\n",
       "</div>"
      ],
      "text/plain": [
       "   Unnamed: 0                  name                                     album  \\\n",
       "0           0   everything i wanted                       everything i wanted   \n",
       "1           1               ghostin                             thank u, next   \n",
       "2           2  Too Good At Goodbyes    The Thrill Of It All (Special Edition)   \n",
       "3           3            i love you  WHEN WE ALL FALL ASLEEP, WHERE DO WE GO?   \n",
       "4           4          I Fall Apart                           Stoney (Deluxe)   \n",
       "\n",
       "          artist release_date  length  popularity  danceability  acousticness  \\\n",
       "0  Billie Eilish   2019-11-13  245425          82         0.704        0.9020   \n",
       "1  Ariana Grande   2019-02-08  271466          69         0.287        0.4180   \n",
       "2      Sam Smith   2017-11-03  201000          74         0.681        0.6400   \n",
       "3  Billie Eilish   2019-03-29  291796          80         0.421        0.9520   \n",
       "4    Post Malone   2016-12-09  223346          80         0.556        0.0689   \n",
       "\n",
       "   danceability.1  energy  instrumentalness  liveness  loudness  speechiness  \\\n",
       "0           0.704   0.225          0.657000     0.106   -14.454       0.0994   \n",
       "1           0.287   0.364          0.000018     0.185    -8.295       0.0306   \n",
       "2           0.681   0.372          0.000000     0.169    -8.237       0.0432   \n",
       "3           0.421   0.131          0.004530     0.109   -18.435       0.0382   \n",
       "4           0.556   0.538          0.000000     0.196    -5.408       0.0382   \n",
       "\n",
       "     tempo  time_signature  mood Moods  \n",
       "0  120.006               4     1   Sad  \n",
       "1  103.777               4     1   Sad  \n",
       "2   91.873               4     1   Sad  \n",
       "3  137.446               4     1   Sad  \n",
       "4  143.950               4     1   Sad  "
      ]
     },
     "execution_count": 4,
     "metadata": {},
     "output_type": "execute_result"
    }
   ],
   "source": [
    "test_df = pd.concat([sad_df,happy_df,workout_df])\n",
    "print(test_df.shape)\n",
    "test_df.head()"
   ]
  },
  {
   "cell_type": "code",
   "execution_count": 5,
   "metadata": {},
   "outputs": [],
   "source": [
    "test_df.to_csv(\"../InputData/input_dataset_test_balanced.csv\",sep = ',')"
   ]
  },
  {
   "cell_type": "markdown",
   "metadata": {},
   "source": [
    "## Machine Learning Model"
   ]
  },
  {
   "cell_type": "markdown",
   "metadata": {},
   "source": [
    "### Initial Works"
   ]
  },
  {
   "cell_type": "code",
   "execution_count": 6,
   "metadata": {},
   "outputs": [],
   "source": [
    "# Initial imports\n",
    "import pandas as pd\n",
    "from path import Path\n",
    "from sklearn import tree\n",
    "from sklearn.preprocessing import StandardScaler\n",
    "from sklearn.model_selection import train_test_split\n",
    "from sklearn.metrics import confusion_matrix, accuracy_score, classification_report"
   ]
  },
  {
   "cell_type": "code",
   "execution_count": 7,
   "metadata": {},
   "outputs": [],
   "source": [
    "X = test_df.drop(labels=['Unnamed: 0','name','album','artist','release_date','mood','length','danceability.1','Moods','energy'],axis=1)\n",
    "y = test_df['mood']"
   ]
  },
  {
   "cell_type": "code",
   "execution_count": 8,
   "metadata": {},
   "outputs": [],
   "source": [
    "# Splitting into Train and Test sets\n",
    "X_train, X_test, y_train, y_test = train_test_split(X, y, random_state=78)"
   ]
  },
  {
   "cell_type": "code",
   "execution_count": 9,
   "metadata": {},
   "outputs": [],
   "source": [
    "# Creating StandardScaler instance\n",
    "scaler = StandardScaler()\n",
    "\n",
    "# Fitting Standard Scaller\n",
    "X_scaler = scaler.fit(X_train)\n",
    "\n",
    "# Scaling data\n",
    "X_train_scaled = X_scaler.transform(X_train)\n",
    "X_test_scaled = X_scaler.transform(X_test)"
   ]
  },
  {
   "cell_type": "markdown",
   "metadata": {},
   "source": [
    "### Linear Regression of Energy and Loudness"
   ]
  },
  {
   "cell_type": "code",
   "execution_count": 34,
   "metadata": {},
   "outputs": [],
   "source": [
    "from sklearn.linear_model import LinearRegression\n",
    "import matplotlib.pyplot as plt"
   ]
  },
  {
   "cell_type": "code",
   "execution_count": 31,
   "metadata": {},
   "outputs": [],
   "source": [
    "energy = test_df.energy.values.reshape(-1,1)\n",
    "loudness = test_df.loudness"
   ]
  },
  {
   "cell_type": "code",
   "execution_count": 32,
   "metadata": {},
   "outputs": [
    {
     "data": {
      "text/plain": [
       "LinearRegression()"
      ]
     },
     "execution_count": 32,
     "metadata": {},
     "output_type": "execute_result"
    }
   ],
   "source": [
    "lr_model = LinearRegression()\n",
    "lr_model.fit(energy,loudness)"
   ]
  },
  {
   "cell_type": "code",
   "execution_count": 33,
   "metadata": {},
   "outputs": [
    {
     "name": "stdout",
     "output_type": "stream",
     "text": [
      "[11.9006707]\n",
      "-14.305789405301184\n"
     ]
    }
   ],
   "source": [
    "print(lr_model.coef_)\n",
    "print(lr_model.intercept_)"
   ]
  },
  {
   "cell_type": "code",
   "execution_count": 36,
   "metadata": {},
   "outputs": [],
   "source": [
    "y_pred = lr_model.predict(energy)"
   ]
  },
  {
   "cell_type": "code",
   "execution_count": 37,
   "metadata": {},
   "outputs": [
    {
     "data": {
      "image/png": "[encoded data removed]",
      "text/plain": [
       "<Figure size 432x288 with 1 Axes>"
      ]
     },
     "metadata": {
      "needs_background": "light"
     },
     "output_type": "display_data"
    }
   ],
   "source": [
    "plt.scatter(energy,loudness)\n",
    "plt.plot(energy, y_pred, color='red')\n",
    "plt.show()"
   ]
  },
  {
   "cell_type": "code",
   "execution_count": 39,
   "metadata": {},
   "outputs": [],
   "source": [
    "import numpy as np"
   ]
  },
  {
   "cell_type": "code",
   "execution_count": 51,
   "metadata": {},
   "outputs": [],
   "source": [
    "def coef(m):\n",
    "    z = m*test_df.energy + (1-m)*test_df.loudness\n",
    "    return np.cov(z)\n"
   ]
  },
  {
   "cell_type": "code",
   "execution_count": 62,
   "metadata": {},
   "outputs": [
    {
     "data": {
      "text/plain": [
       "array([[1.        , 0.76499981],\n",
       "       [0.76499981, 1.        ]])"
      ]
     },
     "execution_count": 62,
     "metadata": {},
     "output_type": "execute_result"
    }
   ],
   "source": [
    "np.corrcoef(test_df.energy,test_df.loudness)"
   ]
  },
  {
   "cell_type": "markdown",
   "metadata": {},
   "source": [
    "### Mutinomial Logistic Regression"
   ]
  },
  {
   "cell_type": "code",
   "execution_count": 10,
   "metadata": {},
   "outputs": [],
   "source": [
    "from sklearn.linear_model import LogisticRegression\n",
    "from sklearn.datasets import make_classification\n",
    "from sklearn.model_selection import cross_val_score\n",
    "from sklearn.model_selection import RepeatedStratifiedKFold"
   ]
  },
  {
   "cell_type": "code",
   "execution_count": 11,
   "metadata": {},
   "outputs": [
    {
     "name": "stdout",
     "output_type": "stream",
     "text": [
      " Logistic regression model accuracy: 0.737\n"
     ]
    }
   ],
   "source": [
    "# define the multinomial logistic regression model\n",
    "model = LogisticRegression(multi_class='multinomial', solver='lbfgs')\n",
    "model.fit(X_train_scaled,y_train)\n",
    "# report the model performance\n",
    "y_pred = model.predict(X_test_scaled)\n",
    "print(f\" Logistic regression model accuracy: {accuracy_score(y_test,y_pred):.3f}\")"
   ]
  },
  {
   "cell_type": "markdown",
   "metadata": {},
   "source": [
    "## Decision Tree"
   ]
  },
  {
   "cell_type": "code",
   "execution_count": 12,
   "metadata": {},
   "outputs": [
    {
     "name": "stdout",
     "output_type": "stream",
     "text": [
      "Confusion Matrix\n"
     ]
    },
    {
     "data": {
      "text/html": [
       "<div>\n",
       "<style scoped>\n",
       "    .dataframe tbody tr th:only-of-type {\n",
       "        vertical-align: middle;\n",
       "    }\n",
       "\n",
       "    .dataframe tbody tr th {\n",
       "        vertical-align: top;\n",
       "    }\n",
       "\n",
       "    .dataframe thead th {\n",
       "        text-align: right;\n",
       "    }\n",
       "</style>\n",
       "<table border=\"1\" class=\"dataframe\">\n",
       "  <thead>\n",
       "    <tr style=\"text-align: right;\">\n",
       "      <th></th>\n",
       "      <th>Predicted 0</th>\n",
       "      <th>Predicted 1</th>\n",
       "      <th>Predicted 2</th>\n",
       "    </tr>\n",
       "  </thead>\n",
       "  <tbody>\n",
       "    <tr>\n",
       "      <th>Actual 0</th>\n",
       "      <td>61</td>\n",
       "      <td>42</td>\n",
       "      <td>63</td>\n",
       "    </tr>\n",
       "    <tr>\n",
       "      <th>Actual 1</th>\n",
       "      <td>44</td>\n",
       "      <td>761</td>\n",
       "      <td>82</td>\n",
       "    </tr>\n",
       "    <tr>\n",
       "      <th>Actual 2</th>\n",
       "      <td>72</td>\n",
       "      <td>80</td>\n",
       "      <td>128</td>\n",
       "    </tr>\n",
       "  </tbody>\n",
       "</table>\n",
       "</div>"
      ],
      "text/plain": [
       "          Predicted 0  Predicted 1  Predicted 2\n",
       "Actual 0           61           42           63\n",
       "Actual 1           44          761           82\n",
       "Actual 2           72           80          128"
      ]
     },
     "metadata": {},
     "output_type": "display_data"
    },
    {
     "name": "stdout",
     "output_type": "stream",
     "text": [
      "Accuracy Score : 0.7126781695423856\n",
      "Classification Report\n",
      "              precision    recall  f1-score   support\n",
      "\n",
      "           0       0.34      0.37      0.36       166\n",
      "           1       0.86      0.86      0.86       887\n",
      "           2       0.47      0.46      0.46       280\n",
      "\n",
      "    accuracy                           0.71      1333\n",
      "   macro avg       0.56      0.56      0.56      1333\n",
      "weighted avg       0.71      0.71      0.71      1333\n",
      "\n"
     ]
    }
   ],
   "source": [
    "# Creating the decision tree classifier instance\n",
    "model = tree.DecisionTreeClassifier()\n",
    "\n",
    "# Fitting the model\n",
    "model = model.fit(X_train_scaled, y_train)\n",
    "\n",
    "# Making predictions using the testing data\n",
    "predictions = model.predict(X_test_scaled)\n",
    "\n",
    "# Calculating the confusion matrix\n",
    "cm = confusion_matrix(y_test, predictions)\n",
    "cm_df = pd.DataFrame(\n",
    "    cm, index=[\"Actual 0\", \"Actual 1\",\"Actual 2\"], columns=[\"Predicted 0\", \"Predicted 1\",\"Predicted 2\"]\n",
    ")\n",
    "\n",
    "# Calculating the accuracy score\n",
    "acc_score = accuracy_score(y_test, predictions)\n",
    "\n",
    "# Displaying results\n",
    "print(\"Confusion Matrix\")\n",
    "display(cm_df)\n",
    "print(f\"Accuracy Score : {acc_score}\")\n",
    "print(\"Classification Report\")\n",
    "print(classification_report(y_test, predictions))"
   ]
  },
  {
   "cell_type": "markdown",
   "metadata": {},
   "source": [
    "## Random Forest"
   ]
  },
  {
   "cell_type": "code",
   "execution_count": 13,
   "metadata": {},
   "outputs": [],
   "source": [
    "from sklearn.ensemble import RandomForestClassifier"
   ]
  },
  {
   "cell_type": "code",
   "execution_count": 14,
   "metadata": {},
   "outputs": [
    {
     "name": "stdout",
     "output_type": "stream",
     "text": [
      "Confusion Matrix\n"
     ]
    },
    {
     "data": {
      "text/html": [
       "<div>\n",
       "<style scoped>\n",
       "    .dataframe tbody tr th:only-of-type {\n",
       "        vertical-align: middle;\n",
       "    }\n",
       "\n",
       "    .dataframe tbody tr th {\n",
       "        vertical-align: top;\n",
       "    }\n",
       "\n",
       "    .dataframe thead th {\n",
       "        text-align: right;\n",
       "    }\n",
       "</style>\n",
       "<table border=\"1\" class=\"dataframe\">\n",
       "  <thead>\n",
       "    <tr style=\"text-align: right;\">\n",
       "      <th></th>\n",
       "      <th>Predicted 0</th>\n",
       "      <th>Predicted 1</th>\n",
       "      <th>Predicted 2</th>\n",
       "    </tr>\n",
       "  </thead>\n",
       "  <tbody>\n",
       "    <tr>\n",
       "      <th>Actual 0</th>\n",
       "      <td>58</td>\n",
       "      <td>37</td>\n",
       "      <td>71</td>\n",
       "    </tr>\n",
       "    <tr>\n",
       "      <th>Actual 1</th>\n",
       "      <td>11</td>\n",
       "      <td>809</td>\n",
       "      <td>67</td>\n",
       "    </tr>\n",
       "    <tr>\n",
       "      <th>Actual 2</th>\n",
       "      <td>30</td>\n",
       "      <td>66</td>\n",
       "      <td>184</td>\n",
       "    </tr>\n",
       "  </tbody>\n",
       "</table>\n",
       "</div>"
      ],
      "text/plain": [
       "          Predicted 0  Predicted 1  Predicted 2\n",
       "Actual 0           58           37           71\n",
       "Actual 1           11          809           67\n",
       "Actual 2           30           66          184"
      ]
     },
     "metadata": {},
     "output_type": "display_data"
    },
    {
     "name": "stdout",
     "output_type": "stream",
     "text": [
      "Accuracy Score : 0.7884471117779445\n",
      "Classification Report\n",
      "              precision    recall  f1-score   support\n",
      "\n",
      "           0       0.59      0.35      0.44       166\n",
      "           1       0.89      0.91      0.90       887\n",
      "           2       0.57      0.66      0.61       280\n",
      "\n",
      "    accuracy                           0.79      1333\n",
      "   macro avg       0.68      0.64      0.65      1333\n",
      "weighted avg       0.78      0.79      0.78      1333\n",
      "\n"
     ]
    }
   ],
   "source": [
    "# Create a random forest classifier.\n",
    "rf_model = RandomForestClassifier(n_estimators=128, random_state=78) \n",
    "# Fitting the model\n",
    "rf_model = rf_model.fit(X_train_scaled, y_train)\n",
    "# Making predictions using the testing data.\n",
    "predictions = rf_model.predict(X_test_scaled)\n",
    "\n",
    "# Calculating the confusion matrix.\n",
    "cm = confusion_matrix(y_test, predictions)\n",
    "\n",
    "# Create a DataFrame from the confusion matrix.\n",
    "cm_df = pd.DataFrame(\n",
    "    cm, index=[\"Actual 0\", \"Actual 1\",\"Actual 2\"], columns=[\"Predicted 0\", \"Predicted 1\",\"Predicted 2\"])\n",
    "\n",
    "cm_df\n",
    "\n",
    "# Calculating the accuracy score.\n",
    "acc_score = accuracy_score(y_test, predictions)\n",
    "\n",
    "# Displaying results\n",
    "print(\"Confusion Matrix\")\n",
    "display(cm_df)\n",
    "print(f\"Accuracy Score : {acc_score}\")\n",
    "print(\"Classification Report\")\n",
    "print(classification_report(y_test, predictions))"
   ]
  },
  {
   "cell_type": "markdown",
   "metadata": {},
   "source": [
    "#### Neural Network Model"
   ]
  },
  {
   "cell_type": "code",
   "execution_count": 84,
   "metadata": {},
   "outputs": [],
   "source": [
    "X = test_df.drop(labels=['Unnamed: 0','name','album','artist','release_date','mood','length','danceability.1','Moods','energy'],axis=1).values\n",
    "y = test_df['mood'].values\n",
    "\n",
    "# Splitting into Train and Test sets\n",
    "X_train, X_test, y_train, y_test = train_test_split(X, y, random_state=78)\n",
    "\n",
    "# Creating StandardScaler instance\n",
    "scaler = StandardScaler()\n",
    "\n",
    "# Fitting Standard Scaller\n",
    "X_scaler = scaler.fit(X_train)\n",
    "\n",
    "# Scaling data\n",
    "X_train_scaled = X_scaler.transform(X_train)\n",
    "X_test_scaled = X_scaler.transform(X_test)"
   ]
  },
  {
   "cell_type": "code",
   "execution_count": 85,
   "metadata": {},
   "outputs": [
    {
     "name": "stdout",
     "output_type": "stream",
     "text": [
      "Model: \"sequential_3\"\n",
      "_________________________________________________________________\n",
      "Layer (type)                 Output Shape              Param #   \n",
      "=================================================================\n",
      "dense_9 (Dense)              (None, 90)                900       \n",
      "_________________________________________________________________\n",
      "dense_10 (Dense)             (None, 20)                1820      \n",
      "_________________________________________________________________\n",
      "dense_11 (Dense)             (None, 3)                 63        \n",
      "=================================================================\n",
      "Total params: 2,783\n",
      "Trainable params: 2,783\n",
      "Non-trainable params: 0\n",
      "_________________________________________________________________\n"
     ]
    }
   ],
   "source": [
    "import tensorflow as tf\n",
    "# Define the model - deep neural net, i.e., the number of input features and hidden nodes for each layer.\n",
    "number_input_features = len(X_train[0])\n",
    "hidden_nodes_layer1 = 90\n",
    "hidden_nodes_layer2 = 20\n",
    "\n",
    "nn = tf.keras.models.Sequential()\n",
    "\n",
    "# First hidden layer\n",
    "nn.add(tf.keras.layers.Dense(units=hidden_nodes_layer1, input_dim=number_input_features, activation=\"relu\"))\n",
    "\n",
    "# Second hidden layer\n",
    "nn.add(tf.keras.layers.Dense(units=hidden_nodes_layer2, activation=\"relu\"))\n",
    "\n",
    "# Output layer\n",
    "nn.add(tf.keras.layers.Dense(units=3, activation=\"softmax\"))\n",
    "\n",
    "# Check the structure of the model\n",
    "nn.summary()"
   ]
  },
  {
   "cell_type": "code",
   "execution_count": 86,
   "metadata": {},
   "outputs": [],
   "source": [
    "# Compile the model\n",
    "nn.compile(loss=\"categorical_crossentropy\", optimizer=\"adam\", metrics=[\"accuracy\"])"
   ]
  },
  {
   "cell_type": "code",
   "execution_count": 87,
   "metadata": {},
   "outputs": [],
   "source": [
    "from tensorflow import keras \n",
    "y_int = y_train.astype(int)\n",
    "y_train_cat = keras.utils.to_categorical(y_int)\n",
    "y_test_cat = keras.utils.to_categorical(y_test.astype(int))"
   ]
  },
  {
   "cell_type": "code",
   "execution_count": 88,
   "metadata": {},
   "outputs": [
    {
     "name": "stdout",
     "output_type": "stream",
     "text": [
      "Train on 3998 samples\n",
      "Epoch 1/50\n",
      "3998/3998 [==============================] - 1s 128us/sample - loss: 0.6998 - accuracy: 0.7021\n",
      "Epoch 2/50\n",
      "3998/3998 [==============================] - 0s 41us/sample - loss: 0.5755 - accuracy: 0.7571\n",
      "Epoch 3/50\n",
      "3998/3998 [==============================] - 0s 39us/sample - loss: 0.5651 - accuracy: 0.7561\n",
      "Epoch 4/50\n",
      "3998/3998 [==============================] - 0s 44us/sample - loss: 0.5553 - accuracy: 0.7606\n",
      "Epoch 5/50\n",
      "3998/3998 [==============================] - 0s 35us/sample - loss: 0.5509 - accuracy: 0.7589\n",
      "Epoch 6/50\n",
      "3998/3998 [==============================] - 0s 37us/sample - loss: 0.5470 - accuracy: 0.7601\n",
      "Epoch 7/50\n",
      "3998/3998 [==============================] - 0s 41us/sample - loss: 0.5449 - accuracy: 0.7666\n",
      "Epoch 8/50\n",
      "3998/3998 [==============================] - 0s 42us/sample - loss: 0.5398 - accuracy: 0.7659\n",
      "Epoch 9/50\n",
      "3998/3998 [==============================] - 0s 38us/sample - loss: 0.5382 - accuracy: 0.7714\n",
      "Epoch 10/50\n",
      "3998/3998 [==============================] - 0s 42us/sample - loss: 0.5358 - accuracy: 0.7746\n",
      "Epoch 11/50\n",
      "3998/3998 [==============================] - 0s 49us/sample - loss: 0.5336 - accuracy: 0.7754\n",
      "Epoch 12/50\n",
      "3998/3998 [==============================] - 0s 35us/sample - loss: 0.5318 - accuracy: 0.7746\n",
      "Epoch 13/50\n",
      "3998/3998 [==============================] - 0s 41us/sample - loss: 0.5285 - accuracy: 0.7766\n",
      "Epoch 14/50\n",
      "3998/3998 [==============================] - 0s 44us/sample - loss: 0.5280 - accuracy: 0.7754\n",
      "Epoch 15/50\n",
      "3998/3998 [==============================] - 0s 42us/sample - loss: 0.5244 - accuracy: 0.7731\n",
      "Epoch 16/50\n",
      "3998/3998 [==============================] - 0s 43us/sample - loss: 0.5223 - accuracy: 0.7796\n",
      "Epoch 17/50\n",
      "3998/3998 [==============================] - 0s 43us/sample - loss: 0.5220 - accuracy: 0.7734\n",
      "Epoch 18/50\n",
      "3998/3998 [==============================] - 0s 40us/sample - loss: 0.5191 - accuracy: 0.7769\n",
      "Epoch 19/50\n",
      "3998/3998 [==============================] - 0s 40us/sample - loss: 0.5185 - accuracy: 0.7834\n",
      "Epoch 20/50\n",
      "3998/3998 [==============================] - 0s 41us/sample - loss: 0.5157 - accuracy: 0.7786\n",
      "Epoch 21/50\n",
      "3998/3998 [==============================] - 0s 37us/sample - loss: 0.5137 - accuracy: 0.7796\n",
      "Epoch 22/50\n",
      "3998/3998 [==============================] - 0s 40us/sample - loss: 0.5119 - accuracy: 0.7829\n",
      "Epoch 23/50\n",
      "3998/3998 [==============================] - 0s 45us/sample - loss: 0.5105 - accuracy: 0.7861\n",
      "Epoch 24/50\n",
      "3998/3998 [==============================] - 0s 70us/sample - loss: 0.5075 - accuracy: 0.7851\n",
      "Epoch 25/50\n",
      "3998/3998 [==============================] - 0s 47us/sample - loss: 0.5048 - accuracy: 0.7866\n",
      "Epoch 26/50\n",
      "3998/3998 [==============================] - 0s 40us/sample - loss: 0.5030 - accuracy: 0.7874\n",
      "Epoch 27/50\n",
      "3998/3998 [==============================] - 0s 49us/sample - loss: 0.5031 - accuracy: 0.7879\n",
      "Epoch 28/50\n",
      "3998/3998 [==============================] - 0s 50us/sample - loss: 0.5003 - accuracy: 0.7899\n",
      "Epoch 29/50\n",
      "3998/3998 [==============================] - 0s 48us/sample - loss: 0.4973 - accuracy: 0.7866\n",
      "Epoch 30/50\n",
      "3998/3998 [==============================] - 0s 43us/sample - loss: 0.4973 - accuracy: 0.7911\n",
      "Epoch 31/50\n",
      "3998/3998 [==============================] - 0s 54us/sample - loss: 0.4942 - accuracy: 0.7916\n",
      "Epoch 32/50\n",
      "3998/3998 [==============================] - 0s 48us/sample - loss: 0.4931 - accuracy: 0.7944\n",
      "Epoch 33/50\n",
      "3998/3998 [==============================] - 0s 46us/sample - loss: 0.4934 - accuracy: 0.7904\n",
      "Epoch 34/50\n",
      "3998/3998 [==============================] - 0s 37us/sample - loss: 0.4908 - accuracy: 0.7924\n",
      "Epoch 35/50\n",
      "3998/3998 [==============================] - 0s 37us/sample - loss: 0.4893 - accuracy: 0.7966\n",
      "Epoch 36/50\n",
      "3998/3998 [==============================] - 0s 43us/sample - loss: 0.4850 - accuracy: 0.7984\n",
      "Epoch 37/50\n",
      "3998/3998 [==============================] - 0s 52us/sample - loss: 0.4852 - accuracy: 0.7939\n",
      "Epoch 38/50\n",
      "3998/3998 [==============================] - 0s 65us/sample - loss: 0.4846 - accuracy: 0.7959\n",
      "Epoch 39/50\n",
      "3998/3998 [==============================] - 0s 47us/sample - loss: 0.4812 - accuracy: 0.7999\n",
      "Epoch 40/50\n",
      "3998/3998 [==============================] - 0s 45us/sample - loss: 0.4794 - accuracy: 0.7981\n",
      "Epoch 41/50\n",
      "3998/3998 [==============================] - 0s 44us/sample - loss: 0.4805 - accuracy: 0.7991\n",
      "Epoch 42/50\n",
      "3998/3998 [==============================] - 0s 47us/sample - loss: 0.4763 - accuracy: 0.7956\n",
      "Epoch 43/50\n",
      "3998/3998 [==============================] - 0s 46us/sample - loss: 0.4752 - accuracy: 0.7979\n",
      "Epoch 44/50\n",
      "3998/3998 [==============================] - 0s 43us/sample - loss: 0.4747 - accuracy: 0.8057\n",
      "Epoch 45/50\n",
      "3998/3998 [==============================] - 0s 42us/sample - loss: 0.4716 - accuracy: 0.8029\n",
      "Epoch 46/50\n",
      "3998/3998 [==============================] - 0s 42us/sample - loss: 0.4718 - accuracy: 0.8007\n",
      "Epoch 47/50\n",
      "3998/3998 [==============================] - 0s 42us/sample - loss: 0.4704 - accuracy: 0.8027\n",
      "Epoch 48/50\n",
      "3998/3998 [==============================] - 0s 40us/sample - loss: 0.4678 - accuracy: 0.8027\n",
      "Epoch 49/50\n",
      "3998/3998 [==============================] - 0s 50us/sample - loss: 0.4650 - accuracy: 0.8064\n",
      "Epoch 50/50\n",
      "3998/3998 [==============================] - 0s 41us/sample - loss: 0.4669 - accuracy: 0.8034\n"
     ]
    }
   ],
   "source": [
    "# Train the model\n",
    "fit_model = nn.fit(X_train_scaled,y_train_cat,epochs=50)"
   ]
  },
  {
   "cell_type": "code",
   "execution_count": 83,
   "metadata": {},
   "outputs": [
    {
     "name": "stdout",
     "output_type": "stream",
     "text": [
      "1333/1 - 0s - loss: 0.6213 - accuracy: 0.7517\n",
      "Loss: 0.5691133043592529, Accuracy: 0.7516879439353943\n"
     ]
    }
   ],
   "source": [
    "model_loss, model_accuracy = nn.evaluate(X_test_scaled,y_test_cat,verbose=2)\n",
    "print(f\"Loss: {model_loss}, Accuracy: {model_accuracy}\")"
   ]
  }
 ],
 "metadata": {
  "interpreter": {
   "hash": "03ec1fe957ed77253732182cf986c2b7ae7ab3754cf1422e3161cb9dde756bbf"
  },
  "kernelspec": {
   "display_name": "Python 3.7.11 64-bit ('FinalProject': conda)",
   "language": "python",
   "name": "python3"
  },
  "language_info": {
   "codemirror_mode": {
    "name": "ipython",
    "version": 3
   },
   "file_extension": ".py",
   "mimetype": "text/x-python",
   "name": "python",
   "nbconvert_exporter": "python",
   "pygments_lexer": "ipython3",
   "version": "3.7.11"
  },
  "orig_nbformat": 4
 },
 "nbformat": 4,
 "nbformat_minor": 2
}
